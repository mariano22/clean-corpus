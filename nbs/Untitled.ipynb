{
 "cells": [
  {
   "cell_type": "code",
   "execution_count": 4,
   "id": "9b8d1fd0-96eb-4eae-af57-77f36ff435b9",
   "metadata": {},
   "outputs": [],
   "source": [
    "import os\n",
    "import json\n",
    "\n",
    "import tiktoken\n",
    "from collections import Counter\n",
    "import random\n",
    "from datasets import Dataset, IterableDataset, load_from_disk\n",
    "import pickle\n",
    "import numpy as np\n",
    "from phonenumbers import PhoneNumberMatcher\n",
    "import multiprocess as mp\n",
    "from collections import defaultdict\n",
    "import nltk\n",
    "import matplotlib.pyplot as plt\n",
    "import numpy as np\n",
    "import shutil\n",
    "from nltk.tokenize import sent_tokenize\n",
    "import sys\n",
    "import gc\n",
    "from datasketch import MinHash, MinHashLSH\n",
    "import unicodedata\n",
    "import re\n",
    "\n",
    "sys.path.append('../scripts')\n",
    "from utils import *\n",
    "import detect_en\n",
    "import mask_pii\n",
    "import gopher_filter\n",
    "import dedup\n"
   ]
  },
  {
   "cell_type": "code",
   "execution_count": 2,
   "id": "84a83a2c-d481-437f-b851-267cc9eb2aaa",
   "metadata": {},
   "outputs": [],
   "source": [
    "ds_name = 'big-5p'\n",
    "ds_path = '../data/'+ds_name"
   ]
  },
  {
   "cell_type": "code",
   "execution_count": 11,
   "id": "3cc1f5e8-33e6-479d-80e0-282ad72640da",
   "metadata": {},
   "outputs": [
    {
     "data": {
      "application/vnd.jupyter.widget-view+json": {
       "model_id": "151c3f78e0464bc597d1122f3a8f8770",
       "version_major": 2,
       "version_minor": 0
      },
      "text/plain": [
       "Saving the dataset (0/11 shards):   0%|          | 0/199332 [00:00<?, ? examples/s]"
      ]
     },
     "metadata": {},
     "output_type": "display_data"
    }
   ],
   "source": [
    "ds.save_to_disk(ds_path+'-new')\n",
    "shutil.rmtree(ds_path)\n",
    "os.rename(ds_path+'-new', ds_path)"
   ]
  },
  {
   "cell_type": "code",
   "execution_count": 5,
   "id": "6add8034-b2e3-4160-b52c-1fc65cd53151",
   "metadata": {},
   "outputs": [
    {
     "data": {
      "text/plain": [
       "Dataset({\n",
       "    features: ['text', 'url', 'en_proba', 'erased_mail', 'n_erased_mail', 'erased_phone', 'n_erased_phone', 'gopher_verdict', 'sentences', 'sentences_normalized', 'dedup_text', 'erased_dedup', 'dedup_diff', 'id', 'dedup_sentences', 'dedup_sentences_normalized'],\n",
       "    num_rows: 199332\n",
       "})"
      ]
     },
     "execution_count": 5,
     "metadata": {},
     "output_type": "execute_result"
    }
   ],
   "source": [
    "ds = load_from_disk(ds_path)\n",
    "ds"
   ]
  },
  {
   "cell_type": "code",
   "execution_count": 6,
   "id": "d37fe621-ae33-403a-bf29-1674376e9375",
   "metadata": {},
   "outputs": [],
   "source": [
    "q='the presunrise to sunset.fast lasts anywhere from 12 to 18 hours depending on where in the world you are<SEP>al jazeera by mohammed haddad published on 20 mar 2023 20 mar 2023 the muslim holy month of ramadan will begin on thursday<SEP>the presunrise to sunset fast lasts anywhere from 12 to 18 hours depending on where you are in the world'\n",
    "w='the presunrise to sunset fast lasts anywhere from 12 to 18 hours depending on where in the world you are<SEP>al jazeera by mohammed haddad published on 20 mar 2023 20 mar the muslim holy month of ramadan will begin later this week<SEP>the presunrise to sunset fast lasts anywhere from 12 to 18 hours depending on where you are in the world'\n",
    "q!=w\n",
    "\n",
    "data = [\n",
    "    \"This agreement is between John Doe and the Company. By using our service, you agree to the terms.\",\n",
    "    \"This agreement is between Jane Smith and the Company. By using our service, you agree to the terms.\",\n",
    "    \"This agreement is between The Client and the Company. By using our service, you agree to the terms.\",\n",
    "    \"This document covers unrelated topics.\"\n",
    "]\n",
    "data = [\n",
    "    q,\n",
    "    w,\n",
    "    \"A fast brown fox leaps over a sleepy dog\",\n",
    "    \"Completely unrelated sentence\"\n",
    "]"
   ]
  },
  {
   "cell_type": "code",
   "execution_count": 7,
   "id": "f6516971-0b01-4e66-ac07-4c620c7aca01",
   "metadata": {},
   "outputs": [
    {
     "name": "stdout",
     "output_type": "stream",
     "text": [
      "doc_0 is similar to: ['doc_1', 'doc_0']\n",
      "doc_1 is similar to: ['doc_1', 'doc_0']\n",
      "doc_2 is similar to: ['doc_2']\n",
      "doc_3 is similar to: ['doc_3']\n"
     ]
    }
   ],
   "source": [
    "NUM_PERM=128\n",
    "N_GRAMS=3\n",
    "JACCARD_THRESHOLD=0.7\n",
    "\n",
    "lsh = MinHashLSH(threshold=JACCARD_THRESHOLD, num_perm=NUM_PERM)\n",
    "minhashes = {}\n",
    "\n",
    "for i, text in enumerate(data):\n",
    "    normalized_text = normalize_for_hashing(text)\n",
    "    m = create_minhash(normalized_text, num_perm=NUM_PERM, num_words_n_gram=N_GRAMS)\n",
    "    lsh.insert(f\"doc_{i}\", m)\n",
    "    minhashes[f\"doc_{i}\"] = m\n",
    "\n",
    "for i, m in minhashes.items():\n",
    "    result = lsh.query(m)\n",
    "    print(f\"{i} is similar to: {result}\")"
   ]
  },
  {
   "cell_type": "code",
   "execution_count": 10,
   "id": "dee28852-6ab2-40d2-bf27-643bc34928ed",
   "metadata": {},
   "outputs": [
    {
     "data": {
      "application/vnd.jupyter.widget-view+json": {
       "model_id": "53d6d83d2cbb4671a10591dcc55b5a35",
       "version_major": 2,
       "version_minor": 0
      },
      "text/plain": [
       "Map (num_proc=4):   0%|          | 0/199332 [00:00<?, ? examples/s]"
      ]
     },
     "metadata": {},
     "output_type": "display_data"
    }
   ],
   "source": [
    "new_mapping = { 'text_field':'dedup_text',\n",
    "                'sentences_field':'dedup_sentences',\n",
    "                'sentences_normalized_field':'dedup_sentences_normalized' }\n",
    "\n",
    "ds = ds.map(apply_normalization, batched=True, num_proc=4, fn_kwargs=new_mapping)"
   ]
  },
  {
   "cell_type": "code",
   "execution_count": 173,
   "id": "a03ab4ce-a3f5-441c-9e04-27580703a349",
   "metadata": {},
   "outputs": [
    {
     "data": {
      "text/plain": [
       "array([17430, 22642, 14792, ...,   538,  5204, 11334])"
      ]
     },
     "execution_count": 173,
     "metadata": {},
     "output_type": "execute_result"
    }
   ],
   "source": [
    "l=np.array([len(x) for x in ds['text']])\n",
    "l   "
   ]
  },
  {
   "cell_type": "code",
   "execution_count": 175,
   "id": "c14f1110-b101-4396-ac72-6bda63f3583f",
   "metadata": {},
   "outputs": [
    {
     "data": {
      "text/plain": [
       "np.float64(3764.8779072100815)"
      ]
     },
     "execution_count": 175,
     "metadata": {},
     "output_type": "execute_result"
    }
   ],
   "source": [
    "l.mean()"
   ]
  },
  {
   "cell_type": "code",
   "execution_count": null,
   "id": "6e89f1a3-2e5c-4e3d-ae65-57e4b7dcb972",
   "metadata": {},
   "outputs": [],
   "source": [
    "n=normalize_for_hashing(ds[0]['text'])\n",
    "print(n)"
   ]
  },
  {
   "cell_type": "code",
   "execution_count": 1,
   "id": "3e4be2bd-c3c1-4e1d-a64f-47541b67ee80",
   "metadata": {},
   "outputs": [],
   "source": [
    "import fasttext\n",
    "model = fasttext.load_model(\"model_filename_3gram.bin\")\n"
   ]
  },
  {
   "cell_type": "code",
   "execution_count": 6,
   "id": "2e2be639-3c95-4d59-aa7a-d3994088eef7",
   "metadata": {},
   "outputs": [
    {
     "name": "stderr",
     "output_type": "stream",
     "text": [
      "Parameter 'function'=<function quality_score at 0x39cb37dc0> of the transform datasets.arrow_dataset.Dataset._map_single couldn't be hashed properly, a random hash was used instead. Make sure your transforms and parameters are serializable with pickle or dill for the dataset fingerprinting and caching to work. If you reuse this transform, the caching mechanism will consider it to be different from the previous calls and recompute everything. This warning is only showed once. Subsequent hashing failures won't be showed.\n"
     ]
    },
    {
     "data": {
      "application/vnd.jupyter.widget-view+json": {
       "model_id": "7569181297db42399daa6ae17829cc35",
       "version_major": 2,
       "version_minor": 0
      },
      "text/plain": [
       "Map:   0%|          | 0/199332 [00:00<?, ? examples/s]"
      ]
     },
     "metadata": {},
     "output_type": "display_data"
    }
   ],
   "source": [
    "def quality_score(examples):\n",
    "    qualities = []\n",
    "    for t in examples['text']:\n",
    "        nt = normalize_for_hashing(t)\n",
    "        l,p = model.predict(nt)\n",
    "        proba = p[0].item()\n",
    "        label = l[0]\n",
    "        if label == '__label__neg':\n",
    "            quality = 1.0-proba\n",
    "        else:\n",
    "            quality = proba\n",
    "        qualities.append(quality)\n",
    "    examples['quality']=qualities\n",
    "    return examples\n",
    "\n",
    "ds=ds.map(quality_score,batched=True)"
   ]
  },
  {
   "cell_type": "code",
   "execution_count": 7,
   "id": "7badb73a-3785-49ec-8196-c7f68694dc1d",
   "metadata": {},
   "outputs": [
    {
     "data": {
      "text/plain": [
       "Dataset({\n",
       "    features: ['text', 'url', 'en_proba', 'erased_mail', 'n_erased_mail', 'erased_phone', 'n_erased_phone', 'gopher_verdict', 'sentences', 'sentences_normalized', 'dedup_text', 'erased_dedup', 'dedup_diff', 'id', 'dedup_sentences', 'dedup_sentences_normalized', 'quality'],\n",
       "    num_rows: 199332\n",
       "})"
      ]
     },
     "execution_count": 7,
     "metadata": {},
     "output_type": "execute_result"
    }
   ],
   "source": [
    "ds"
   ]
  },
  {
   "cell_type": "code",
   "execution_count": 8,
   "id": "49b35b64-89b9-4a4e-9580-37f2e1e03942",
   "metadata": {},
   "outputs": [
    {
     "data": {
      "text/plain": [
       "0.2372962236404419"
      ]
     },
     "execution_count": 8,
     "metadata": {},
     "output_type": "execute_result"
    }
   ],
   "source": [
    "ds['quality'][0]"
   ]
  },
  {
   "cell_type": "code",
   "execution_count": 9,
   "id": "7ab06194-0f36-49c2-b227-c1da2ea8cafd",
   "metadata": {},
   "outputs": [],
   "source": [
    "qs=np.array(ds['quality'])"
   ]
  },
  {
   "cell_type": "code",
   "execution_count": 10,
   "id": "486109fe-b6fe-49fa-9265-811d2259f156",
   "metadata": {},
   "outputs": [
    {
     "data": {
      "text/plain": [
       "np.float64(0.024771788410775587)"
      ]
     },
     "execution_count": 10,
     "metadata": {},
     "output_type": "execute_result"
    }
   ],
   "source": [
    "qs.mean()"
   ]
  },
  {
   "cell_type": "code",
   "execution_count": 15,
   "id": "dd67f791-be73-4aab-a621-a3d9c21164fe",
   "metadata": {},
   "outputs": [
    {
     "data": {
      "text/plain": [
       "np.float64(0.07379269053026961)"
      ]
     },
     "execution_count": 15,
     "metadata": {},
     "output_type": "execute_result"
    }
   ],
   "source": [
    "qs.std()"
   ]
  },
  {
   "cell_type": "code",
   "execution_count": 85,
   "id": "ca7b2288-531a-4e59-b84f-2cb318009366",
   "metadata": {},
   "outputs": [
    {
     "data": {
      "text/plain": [
       "19463"
      ]
     },
     "execution_count": 85,
     "metadata": {},
     "output_type": "execute_result"
    }
   ],
   "source": [
    "idx = np.where(qs<0.0000000001)[0].tolist()\n",
    "len(idx)"
   ]
  },
  {
   "cell_type": "code",
   "execution_count": 104,
   "id": "35177fd3-3d94-4af6-9b47-da9455e84186",
   "metadata": {},
   "outputs": [
    {
     "name": "stdout",
     "output_type": "stream",
     "text": [
      ">>Sign Up For Free To finish signing up, check your inbox for a link to confirm your email address.Sorry, something went wrong.Please try again.\n",
      ">>More Must-Read Stories From TIME\n",
      ">>Listen to this story.Enjoy more audio and podcasts on iOS or Android .Your browser does not support the <audio> element.\n",
      ">>The\n",
      ">>More Must-Read Stories From TIME\n",
      ">>More Must-Read Stories From TIME\n",
      ">>Listen to this story.Enjoy more audio and podcasts on iOS or Android .Your browser does not support the <audio> element.\n",
      ">>Readers get an in-depth look at how the next wave of tech will reshape civic and political life, including activism, fundraising, lobbying and legislating.Go inside the minds of the biggest tech players, policymakers and regulators to learn how their decisions affect our lives.Don't miss out, subscribe today .\n",
      ">>STEP INSIDE THE WEST WING : What's really happening in West Wing offices?Find out who's up, who's down, and who really has the president’s ear in our West Wing Playbook newsletter, the insider's guide to the Biden White House and Cabinet.For buzzy nuggets and details that you won't find anywhere else, subscribe today .\n",
      ">>Check out Minutes, POLITICO’s new platform that delivers the latest exclusives, twists and much more in real time.Get it on your desktop or download the POLITICO mobile app for iOS or Android .CHECK OUT CONGRESS MINUTES HERE.\n",
      ">>To learn more about the exclusive insight and analysis this subscriber-only service offers, click here .Want to make an impact?POLITICO California has a variety of solutions available for partners looking to reach and activate the most influential people in the Golden State.\n",
      ">>Have a petition you want signed?A cause you’re promoting?Seeking to increase brand awareness amongst this key audience?\n",
      ">>Share your message with our influential readers to foster engagement and drive action.Contact Jesse Shapiro to find out how: [email protected]\n",
      ">>Check back for updates.\n",
      ">>Dareh Gregorian is a politics reporter for NBC News.\n",
      ">>Daniella Silva is a reporter for NBC News, focusing on education and how laws, policies and practices affect students and teachers.She also writes about immigration.\n",
      ">>Deon J. Hampton is a national reporter for NBC News, based in Cincinnati.\n",
      ">>Tat Bellamy-Walker is the desk assistant for NBC News' diversity verticals.\",\"sameAs\":[\"https://twitter.com/bell_tati\"]}],\"publisher\":{\"@type\":\"Organization\",\"name\":\"NBC News\",\"logo\":{\"@type\":\"ImageObject\n",
      ">>Tat Bellamy-Walker is the desk assistant for NBC News' diversity verticals.\",\"sameAs\":[\"https://twitter.com/bell_tati\"]}],\"publisher\":{\"@type\":\"Organization\",\"name\":\"NBC News\",\"logo\":{\"@type\":\"ImageObject\n",
      ">>Rob Wile is a breaking business news reporter for NBC News Digital.\",\"sameAs\":[\"https://twitter.com/rjwile\"]}],\"publisher\":{\"@type\":\"Organization\",\"name\":\"NBC News\",\"logo\":{\"@type\":\"ImageObject\n",
      ">>Aria Bendix is the breaking health reporter for NBC News Digital.\n",
      ">>Shannon Pettypiece is the senior White House reporter for NBCNews.com.\"}],\"publisher\":{\"@type\":\"Organization\",\"name\":\"NBC News\",\"logo\":{\"@type\":\"ImageObject\n",
      ">>Rob Wile is a breaking business news reporter for NBC News Digital.\",\"sameAs\":[\"https://twitter.com/rjwile\"]}],\"publisher\":{\"@type\":\"Organization\",\"name\":\"NBC News\",\"logo\":{\"@type\":\"ImageObject\n",
      ">>David K. Li is a breaking news reporter for NBC News.\n",
      ">>Phil Helsel is a reporter for NBC News.\n",
      ">>Chuck Todd is moderator of \\\" Meet The Press \\\" and NBC News' political director.\",\"sameAs\":[\"https://www.facebook.com/chucktodd\",\"https://instagram.com/meetthepress\",\"https://twitter.com/chucktodd\"]},{\"@context\":\"http://schema.org/\",\"@type\":\"Person\",\"name\":\"Mark Murray \",\"image\":\"https://media-cldnry.s-nbcnews.com/image/upload/t_fit-1500w,f_auto,q_auto:best/newscms/2020_02/<|PHONE_NUMBER|>/mark-murray-circle-byline-template.jpg\",\"jobTitle\":\"Senior Political Editor\",\"description\":\"Mark Murray is a senior political editor at NBC News.\",\"sameAs\":[\"https://twitter.com/mmurraypolitics\"]},{\"@context\":\"http://schema.org/\",\"@type\":\"Person\",\"name\":\"Ben Kamisar\",\"image\":\"https://media-cldnry.s-nbcnews.com/image/upload/t_fit-1500w,f_auto,q_auto:best/newscms/2022_21/<|PHONE_NUMBER|>/mtp_head_shot_kamisar_2.jpeg\",\"jobTitle\":null,\"description\":\"Ben Kamisar is a deputy political editor in NBC's Political Unit.\n",
      ">>Rob Wile is a breaking business news reporter for NBC News Digital.\",\"sameAs\":[\"https://twitter.com/rjwile\"]}],\"publisher\":{\"@type\":\"Organization\",\"name\":\"NBC News\",\"logo\":{\"@type\":\"ImageObject\n",
      ">>Phil Helsel is a reporter for NBC News.\n",
      ">>Source: Bloomberg\n",
      ">>Source: Al Jazeera and news agencies\n",
      ">>Source: Al Jazeera\n",
      ">>Source: News Agencies\n",
      ">>Source: Al Jazeera and news agencies\n",
      ">>Source: Al Jazeera and news agencies\n",
      ">>App-articleBody\n",
      ">>App-articleBody\n",
      ">>App-articleBody\n",
      ">>Jo Yurcaba is a reporter for NBC Out.\n",
      ">>Daniella Silva is a reporter for NBC News, focusing on education and how laws, policies and practices affect students and teachers.She also writes about immigration.\n",
      ">>App-articleBody\n",
      ">>App-articleBody\n",
      ">>App-articleBody\n",
      ">>App-articleBody\n",
      ">>App-articleBody\n",
      ">>Sign up now for the CNBC Investing Club to follow Jim Cramer's every move in the market.Disclaimer Questions for Cramer?Call Cramer: <|PHONE_NUMBER|>-CNBC Want to take a deep dive into Cramer's world?\n",
      ">>Hit him up!Mad Money Twitter - Jim Cramer Twitter - Facebook - Instagram Questions, comments, suggestions for the \"Mad Money\" website?<|EMAIL_ADDRESS|>\n",
      ">>App-articleBody\n",
      ">>App-articleBody\n",
      ">>App-articleBody\n",
      ">>App-articleBody\n",
      ">>App-articleBody\n",
      ">>App-articleBody\n",
      ">>Subscribe to CNBC on YouTube.\n",
      ">>App-articleBody\n",
      ">>Source: Al Jazeera and news agencies\n",
      ">>Sign up now for the CNBC Investing Club to follow Jim Cramer's every move in the market.Disclaimer Questions for Cramer?Call Cramer: <|PHONE_NUMBER|>-CNBC Want to take a deep dive into Cramer's world?\n",
      ">>Hit him up!Mad Money Twitter - Jim Cramer Twitter - Facebook - Instagram Questions, comments, suggestions for the \"Mad Money\" website?<|EMAIL_ADDRESS|>\n",
      ">>Source: Al Jazeera and news agencies\n",
      ">>Please check back for updates.\n",
      ">>Call Cramer: <|PHONE_NUMBER|>-CNBC Want to take a deep dive into Cramer's world?Hit him up!Mad Money Twitter - Jim Cramer Twitter - Facebook - Instagram Questions, comments, suggestions for the \"Mad Money\" website?\n",
      ">><|EMAIL_ADDRESS|>\n",
      ">>Source: Al Jazeera and news agencies\n",
      ">>App-articleBody\n",
      ">>App-articleBody\n",
      ">>App-articleBody\n",
      ">>App-articleBody\n",
      ">>App-articleBody\n",
      ">>Henry J. Gomez is a senior national political reporter for NBC News.\n",
      ">>App-articleBody\n",
      ">>App-articleBody\n",
      ">>App-articleBody\n",
      ">>App-articleBody\n",
      ">>App-articleBody\n",
      ">>Source: News Agencies\n",
      ">>Source: News Agencies\n",
      ">>Source: Al Jazeera\n",
      ">>Source: Al Jazeera and news agencies\n",
      ">>Source: News Agencies\n",
      ">>Source: Al Jazeera and news agencies\n",
      ">>Source: News Agencies\n",
      ">>Source: Al Jazeera\n",
      ">>Source: Al Jazeera and news agencies\n",
      ">>Source: Al Jazeera and news agencies\n",
      ">>App-articleBody\n",
      ">>App-articleBody\n",
      ">>Comments\n",
      "0 comments\n",
      ">>App-articleBody\n",
      ">>Source: News Agencies\n",
      ">>The views expressed in this article are the author’s own and do not necessarily reflect Al Jazeera’s editorial stance.\n",
      ">>Source: AFP\n",
      ">>Source: Al Jazeera and news agencies\n",
      ">>Source: News Agencies\n",
      ">>Source: Al Jazeera\n",
      ">>Source: News Agencies\n",
      ">>Source: Al Jazeera\n",
      ">>App-articleBody\n",
      ">>App-articleBody\n",
      ">>App-articleBody\n",
      ">>App-articleBody\n",
      ">>App-articleBody\n",
      ">>Source: Al Jazeera\n",
      ">>Source: News Agencies\n",
      ">>Source: Al Jazeera and news agencies\n",
      ">>Source: Al Jazeera and news agencies\n",
      ">>Supply hyperlink\n",
      ">>Source: News Agencies\n",
      ">>Give directly to The Spokesman-Review's Northwest Passages community forums series -- which helps to offset the costs of several reporter and editor positions at the newspaper -- by using the easy options below.Gifts processed in this system are not tax deductible, but are predominately used to help meet the local financial requirements needed to receive national matching-grant funds.\n",
      ">>Feel free to drop us a note at <|EMAIL_ADDRESS|> .\n",
      ">>You may occasionally receive promotional content from the Los Angeles Times.\n",
      ">>@JonahDispatch\n",
      ">>If you have a memory or story about the Golden State, share it with us .(Please keep your story to 100 words.)Please let us know what we can do to make this newsletter more useful to you.\n",
      ">>Send comments to <|EMAIL_ADDRESS|> .\n",
      ">>This story originally appeared in Los Angeles Times .\n",
      ">>Enjoying this newsletter?Consider subscribing to the Los Angeles Times\n",
      "Your support helps us deliver the news that matters most.Become a subscriber .\n",
      ">>×\n",
      ">>If you have a memory or story about the Golden State, share it with us .(Please keep your story to 100 words.)Please let us know what we can do to make this newsletter more useful to you.\n",
      ">>Send comments to <|EMAIL_ADDRESS|> .\n",
      ">>This story originally appeared in Los Angeles Times .\n",
      ">><|EMAIL_ADDRESS|>\n",
      ">>This story originally appeared in Los Angeles Times .\n",
      ">>They may be edited and republished in any format.Each must include a valid mailing address and telephone number.Pseudonyms will not be used.\n",
      ">>Email: <|EMAIL_ADDRESS|>\n",
      ">>And our theme music is by Andrew Eapen.\n",
      ">>Give directly to The Spokesman-Review's Northwest Passages community forums series -- which helps to offset the costs of several reporter and editor positions at the newspaper -- by using the easy options below.Gifts processed in this system are not tax deductible, but are predominately used to help meet the local financial requirements needed to receive national matching-grant funds.\n",
      ">>The stories shaping California\n",
      "Get up to speed with our Essential California newsletter, sent six days a week.You may occasionally receive promotional content from the Los Angeles Times.\n",
      ">>Copyright © 2022 NPR.All rights reserved.Visit our website terms of use and permissions pages at www.npr.org for further information.\n",
      ">>NPR transcripts are created on a rush deadline by an NPR contractor.This text may not be in its final form and may be updated or revised in the future.Accuracy and availability may vary.\n",
      ">>The authoritative record of NPR’s programming is the audio record.\n",
      ">>Visit our website terms of use and permissions pages at www.npr.org for further information.NPR transcripts are created on a rush deadline by an NPR contractor.This text may not be in its final form and may be updated or revised in the future.\n",
      ">>Accuracy and availability may vary.The authoritative record of NPR’s programming is the audio record.\n",
      ">>Loading...\n",
      ">>NPR transcripts are created on a rush deadline by an NPR contractor.This text may not be in its final form and may be updated or revised in the future.Accuracy and availability may vary.\n",
      ">>The authoritative record of NPR’s programming is the audio record.\n",
      ">>Subscribe to our podcast here .Email the show at <|EMAIL_ADDRESS|>\n",
      "See Here & Now sponsors and promo codes\n",
      ">>All rights reserved.Visit our website terms of use and permissions pages at www.npr.org for further information.NPR transcripts are created on a rush deadline by an NPR contractor.\n",
      ">>This text may not be in its final form and may be updated or revised in the future.Accuracy and availability may vary.The authoritative record of NPR’s programming is the audio record.\n",
      ">>Subscribe to our podcast here .Email the show at <|EMAIL_ADDRESS|>\n",
      "See Here & Now sponsors and promo codes\n",
      ">>Copyright © 2022 NPR.All rights reserved.Visit our website terms of use and permissions pages at www.npr.org for further information.\n",
      ">>NPR transcripts are created on a rush deadline by an NPR contractor.This text may not be in its final form and may be updated or revised in the future.Accuracy and availability may vary.\n",
      ">>The authoritative record of NPR’s programming is the audio record.\n",
      ">>(SOUNDBITE OF MUSIC)\n",
      "Copyright © 2022 NPR.All rights reserved.Visit our website terms of use and permissions pages at www.npr.org for further information.\n",
      ">>NPR transcripts are created on a rush deadline by an NPR contractor.This text may not be in its final form and may be updated or revised in the future.Accuracy and availability may vary.\n",
      ">>The authoritative record of NPR’s programming is the audio record.\n",
      ">>Subscribe to our podcast here .Email the show at <|EMAIL_ADDRESS|>\n",
      "See Here & Now sponsors and promo codes\n",
      ">>Our editor is Kinsee Morlan.Our executive producers are Jazmín Aguilera and Shani O. Hilton.Our theme song was composed by Andrew Eapen.\n",
      ">>This story originally appeared in Los Angeles Times .\n",
      ">>×\n",
      ">>You may occasionally receive promotional content from the Los Angeles Times.\n",
      ">>Copyright © 2022 NPR.All rights reserved.Visit our website terms of use and permissions pages at www.npr.org for further information.\n",
      ">>NPR transcripts are created on a rush deadline by an NPR contractor.This text may not be in its final form and may be updated or revised in the future.Accuracy and availability may vary.\n",
      ">>The authoritative record of NPR’s programming is the audio record.\n",
      ">>ET.\n",
      ">>See Pop Culture Happy Hour sponsors and promo codes\n",
      ">>Copyright © 2022 NPR.All rights reserved.Visit our website terms of use and permissions pages at www.npr.org for further information.\n",
      ">>NPR transcripts are created on a rush deadline by an NPR contractor.This text may not be in its final form and may be updated or revised in the future.Accuracy and availability may vary.\n",
      ">>The authoritative record of NPR’s programming is the audio record.\n",
      ">>Our daily news podcast\n",
      "If you’re a fan of this newsletter, you’ll love our daily podcast “The Times,” hosted every weekday by columnist Gustavo Arellano, along with reporters from across our newsroom.Go beyond the headlines.Download and listen on our App , subscribe on Apple Podcasts and follow on Spotify .\n",
      ">>Feel free to drop us a note at <|EMAIL_ADDRESS|> .\n",
      ">>Until next time...\n",
      "That concludes today’s newsletter.If you have any feedback, ideas for improvement or things you’d like to see, email me at <|EMAIL_ADDRESS|> , and follow me on Twitter at @latimeshouston .To get this newsletter in your inbox, click here .\n",
      ">>Get our high school sports newsletter\n",
      "Prep Rally is devoted to the SoCal high school sports experience, bringing you scores, stories and a behind-the-scenes look at what makes prep sports so popular.You may occasionally receive promotional content from the Los Angeles Times.\n",
      ">>It's MORNING EDITION.Copyright © 2022 NPR.All rights reserved.\n",
      ">>Visit our website terms of use and permissions pages at www.npr.org for further information.NPR transcripts are created on a rush deadline by an NPR contractor.This text may not be in its final form and may be updated or revised in the future.\n",
      ">>Accuracy and availability may vary.The authoritative record of NPR’s programming is the audio record.\n",
      ">>Connect with us:\n",
      "Find more stories from today's show here .Follow us on Twitter , Facebook and Instagram .Subscribe to our podcast here .\n",
      ">>Email the show at <|EMAIL_ADDRESS|>\n",
      "See Here & Now sponsors and promo codes\n",
      ">>All rights reserved.Visit our website terms of use and permissions pages at www.npr.org for further information.NPR transcripts are created on a rush deadline by an NPR contractor.\n",
      ">>This text may not be in its final form and may be updated or revised in the future.Accuracy and availability may vary.The authoritative record of NPR’s programming is the audio record.\n",
      ">>Enjoying this newsletter?Consider subscribing to the Los Angeles Times\n",
      "Your support helps us deliver the news that matters most.Become a subscriber.\n",
      ">>You may occasionally receive promotional content from the Los Angeles Times.\n",
      ">>Our editor is Kinsee Morlan.Our executive producers are Jazmín Aguilera and Shani O. Hilton.Our theme song was composed by Andrew Eapen.\n",
      ">>Gifts processed in this system are not tax deductible, but are predominately used to help meet the local financial requirements needed to receive national matching-grant funds.\n",
      ">>Our editor is Kinsee Morlan.Our executive producers are Jazmín Aguilera and Shani O. Hilton.Our theme song was composed by Andrew Eapen.\n",
      ">>Copyright © 2022 NPR.All rights reserved.Visit our website terms of use and permissions pages at www.npr.org for further information.\n",
      ">>NPR transcripts are created on a rush deadline by an NPR contractor.This text may not be in its final form and may be updated or revised in the future.Accuracy and availability may vary.\n",
      ">>The authoritative record of NPR’s programming is the audio record.\n",
      ">>For context and more in-depth stories, you can find NPR's full coverage here .Also, listen and subscribe to NPR's State of Ukraine podcast for updates throughout the day.Loading...\n",
      ">>I didn’t manage to get tickets to the concert – how can I watch it?Unfortunately, tickets to the concert were balloted, with 100,000 people expected to attend the event.But if you weren’t a lucky winner, fear not: you can still watch the concert across the Platinum Jubilee weekend.\n",
      ">>BBC One will broadcast the Platinum Party at the Palace live, with iPlayer and the broader BBC network supporting the show too.Those away from a television can tune into Radio 2 to listen to the performances live.If you're attending the Jubilee Picnic in the Park event on Windsor’s Long Walk (to which there is free entry), in addition to the music and sport activities, the Platinum Party at the Palace concert will also be shown across giant screens.\n",
      ">>Sign up to the Front Page newsletter for free: Your essential guide to the day's agenda from The Telegraph - direct to your inbox seven days a week.\n",
      ">>This article is kept updated with the latest information.Sign up to the Front Page newsletter for free: Your essential guide to the day's agenda from The Telegraph - direct to your inbox seven days a week.\n",
      ">>This article is kept updated with the latest information.Sign up to the Front Page newsletter for free: Your essential guide to the day's agenda from The Telegraph - direct to your inbox seven days a week.\n",
      ">>Sign up to the Front Page newsletter for free: Your essential guide to the day's agenda from The Telegraph - direct to your inbox seven days a week.\n",
      ">>Alex Robbins is contributing editor at Telegraph Cars where, as well as responding to readers' queries, he also contributes reviews of new and used cars, together with articles on buying and selling.His knowledge of the used car market informs his many buying guides relating to the best buys in particular sectors, with an emphasis on value for money.Every week he will answer your questions on buying and selling, as well as solving your car problems, whether consumer or mechanical.\n",
      ">>Sign up to the Front Page newsletter for free: Your essential guide to the day's agenda from The Telegraph - direct to your inbox seven days a week.\n",
      ">>Sign up to the Front Page newsletter for free: Your essential guide to the day's agenda from The Telegraph - direct to your inbox seven days a week.\n",
      ">>The workers don’t want strikes.The unions don’t want strikes.The public don’t want strikes.\n",
      ">>The workers don’t want strikes.The unions don’t want strikes.The public don’t want strikes.\n",
      ">>Sign up to the Front Page newsletter for free: Your essential guide to the day's agenda from The Telegraph - direct to your inbox seven days a week.\n",
      ">>Sign up to the Front Page newsletter for free: Your essential guide to the day's agenda from The Telegraph - direct to your inbox seven days a week.\n",
      ">>Sign up to the Front Page newsletter for free: Your essential guide to the day's agenda from The Telegraph - direct to your inbox seven days a week.\n",
      ">>Test your brains with the Herald's morning quiz.Be sure to check back on nzherald.co.nz for the afternoon quiz.To challenge yourself with more quizzes, CLICK HERE.\n",
      ">>Test your brains with the Herald's morning quiz.Be sure to check back on nzherald.co.nz for the afternoon quiz.To challenge yourself with more quizzes, CLICK HERE.\n",
      ">>Advertisement Advertise with NZME.\n",
      ">>I was slipping in people's blood.I was catching people as they fell.It was carnage.\n",
      ">>Advertisement Advertise with NZME.\n",
      ">>• No noms-de-plume.• Letters will be published with names and suburb/city.• Please include full name, address and contact details for our records only.\n",
      ">>• Local letter writers given preference.• Rejected letters are not normally acknowledged.• Letters may be edited, abridged, or rejected at the Editor's discretion.\n",
      ">>Advertisement Advertise with NZME.\n",
      ">>- RNZ\n",
      ">>Test your brains with the Herald's morning quiz.Be sure to check back on nzherald.co.nz for the afternoon quiz.To challenge yourself with more quizzes, CLICK HERE.\n",
      ">>The workers don’t want strikes.The unions don’t want strikes.The public don’t want strikes.\n",
      ">>Sign up to the Front Page newsletter for free: Your essential guide to the day's agenda from The Telegraph - direct to your inbox seven days a week.\n",
      ">>Sign up to the Front Page newsletter for free: Your essential guide to the day's agenda from The Telegraph - direct to your inbox seven days a week.\n",
      ">>Sign up to the Front Page newsletter for free: Your essential guide to the day's agenda from The Telegraph - direct to your inbox seven days a week.\n",
      ">>Sign up to the Front Page newsletter for free: Your essential guide to the day's agenda from The Telegraph - direct to your inbox seven days a week.\n",
      ">>- More to come.\n",
      ">>•\n",
      "The Front Page is a daily news podcast from the New Zealand Herald, available to listen to every weekday from 5am.• You can follow the podcast at nzherald.co.nz , iHeartRadio , Apple Podcasts , Spotify , or wherever you get your podcasts.\n",
      ">>MORE TO COME\n",
      ">>Advertisement Advertise with NZME.\n",
      ">>•\n",
      "The Front Page is a daily news podcast from the New Zealand Herald, available to listen to every weekday from 5am.• You can follow the podcast at nzherald.co.nz , iHeartRadio , Apple Podcasts , Spotify , or wherever you get your podcasts.\n",
      ">>• Daniela Elser is a royal expert and a writer with more than 15 years' experience working with a number of Australia's leading media titles.\n",
      ">>Sign up to the Front Page newsletter for free: Your essential guide to the day's agenda from The Telegraph - direct to your inbox seven days a week.\n",
      ">>• Daniela Elser is a royal expert and a writer with more than 15 years experience working with a number of Australia's leading media titles.\n",
      ">>Test your brains with the Herald's morning quiz.Be sure to check back on nzherald.co.nz for the afternoon quiz.To challenge yourself with more quizzes, CLICK HERE.\n",
      ">>Test your brains with the Herald's morning quiz.Be sure to check back on nzherald.co.nz for the afternoon quiz.To challenge yourself with more quizzes, CLICK HERE.\n",
      ">>Advertisement Advertise with NZME.\n",
      ">>Test your brains with the Herald's morning quiz.Be sure to check back on nzherald.co.nz for the afternoon quiz.To challenge yourself with more quizzes, CLICK HERE.\n",
      ">>For the interview, listen to the podcast here.• If you have a question about this podcast, or a question you'd like answered in the next one, come and talk to me about it.I'm on Facebook here , Instagram here , and Twitter here .\n",
      ">>• Listen to the full interview on the Cooking the Books podcast.You can subscribe on iHeartRadio , Apple Podcasts , or Spotify .\n",
      ">>- AP\n",
      ">>Advertisement Advertise with NZME.\n",
      ">>WHAT DO YOU THINK?SEND A LETTER TO THE EDITOR The Rotorua Daily Post and the Bay of Plenty Times welcome letters from readers.Please note the following:\n",
      "• Letters should not exceed 200 words.\n",
      ">>• They should be opinion based on facts or current events.• If possible, please email.• No noms-de-plume.\n",
      ">>• Local letter writers given preference.• Rejected letters are not normally acknowledged.• Letters may be edited, abridged, or rejected at the Editor's discretion.\n",
      ">>• The Editor's decision on publication is final.No correspondence will be entered into.Email <|EMAIL_ADDRESS|> or bayofplentytimes.co.nz\n",
      ">>Advertisement Advertise with NZME.\n",
      ">>Advertisement Advertise with NZME.\n",
      ">>Advertisement\n",
      ">>Advertisement\n",
      ">>Advertisement\n",
      ">>Advertisement\n",
      ">>Advertisement\n",
      ">>Advertisement\n",
      ">>Advertisement\n",
      ">>Advertisement\n",
      ">>Advertisement\n",
      ">>Advertisement\n",
      ">>Advertisement\n"
     ]
    }
   ],
   "source": [
    "count = 0\n",
    "for i in range(len(ds)):\n",
    "    t = ds[i]['erased_dedup']\n",
    "    if len(t):\n",
    "        print(t)\n",
    "        count+=1\n",
    "        if count>200:\n",
    "            break"
   ]
  },
  {
   "cell_type": "code",
   "execution_count": null,
   "id": "df779455-4973-4627-b5ba-31fdba5e731e",
   "metadata": {},
   "outputs": [],
   "source": []
  },
  {
   "cell_type": "code",
   "execution_count": 92,
   "id": "9dbb3fd6-6423-463a-987a-63332ef47a18",
   "metadata": {},
   "outputs": [
    {
     "name": "stdout",
     "output_type": "stream",
     "text": [
      "-7.271766662597656e-06\n",
      "View more\n",
      "EVENTS AND PARTNERSHIPS EXECUTIVE (HIGH VALUE FUNDRAISING EVENTS)\n",
      "Salary: From £24,550 per annum pro rata + benefits\n",
      "Location: Stratford (high flex - we would expect you to be in the office 1-2 days per week).\n",
      "Contract Length: Fixed-term until end of March 2023\n",
      "Hours per week: 35\n",
      "Closing date: Sunday 7th August 2022, 23:55*\n",
      "* Please note that we may close this role earlier than stated, therefore early application is encouraged to avoid disappointment.\n",
      "Do you have a passion for working in events and are looking for a new challenge working with the world's leading independent cancer charity? If so, this could the ideal opportunity for you to join our high value fundraising events team.\n",
      "Why we need you\n",
      "The High Value Fundraising Events team manage high-value fundraising partnerships with committees, individuals and organisations to deliver an inspiring portfolio of circa. 10 special events each year, each with income between £100k - £1m.\n",
      "We're looking for a motivated Events & Pa\n"
     ]
    }
   ],
   "source": [
    "i = idx[17000]\n",
    "print(ds[i]['quality'])\n",
    "print(ds[i]['text'][:1000])"
   ]
  },
  {
   "cell_type": "code",
   "execution_count": 28,
   "id": "46486656-8735-4149-8fbf-5ea556da260c",
   "metadata": {},
   "outputs": [],
   "source": [
    "idx=np.where(np.array(ds['gopher_verdict'])!='ok')[0].tolist()"
   ]
  },
  {
   "cell_type": "code",
   "execution_count": 33,
   "id": "7319475a-83dd-4dfc-ae45-81a347b2d6d6",
   "metadata": {},
   "outputs": [
    {
     "data": {
      "text/plain": [
       "np.float64(0.012854086512575136)"
      ]
     },
     "execution_count": 33,
     "metadata": {},
     "output_type": "execute_result"
    }
   ],
   "source": [
    "np.array([ds[i]['quality'] for i in idx]).mean()"
   ]
  },
  {
   "cell_type": "code",
   "execution_count": 54,
   "id": "3c1fbdea-d1b7-40a1-99c6-99694bbb267a",
   "metadata": {},
   "outputs": [
    {
     "data": {
      "text/plain": [
       "138312"
      ]
     },
     "execution_count": 54,
     "metadata": {},
     "output_type": "execute_result"
    }
   ],
   "source": [
    "len(idx)"
   ]
  },
  {
   "cell_type": "code",
   "execution_count": 217,
   "id": "afed6a45-c376-4394-aa59-2aa36d9992e3",
   "metadata": {},
   "outputs": [],
   "source": [
    "magic = qs.mean()-qs.std()"
   ]
  },
  {
   "cell_type": "code",
   "execution_count": 218,
   "id": "4adf6526-cec9-4261-8168-2348436c5a73",
   "metadata": {},
   "outputs": [
    {
     "data": {
      "text/plain": [
       "np.int64(0)"
      ]
     },
     "execution_count": 218,
     "metadata": {},
     "output_type": "execute_result"
    }
   ],
   "source": [
    "(qs<magic).sum()"
   ]
  },
  {
   "cell_type": "code",
   "execution_count": null,
   "id": "1519dcbf-d572-448a-8631-800514bff0a1",
   "metadata": {},
   "outputs": [],
   "source": []
  },
  {
   "cell_type": "code",
   "execution_count": 201,
   "id": "b3ab86f6-6259-4000-8b01-22d300ae3580",
   "metadata": {},
   "outputs": [
    {
     "data": {
      "text/plain": [
       "('__label__neg', 0.8799633979797363)"
      ]
     },
     "execution_count": 201,
     "metadata": {},
     "output_type": "execute_result"
    }
   ],
   "source": [
    "\n",
    "nt = normalize_for_hashing(ds['text'][0])\n",
    "l,p = model.predict(nt)\n",
    "proba = p[0].item()\n",
    "label = l[0]\n",
    "label, proba"
   ]
  },
  {
   "cell_type": "code",
   "execution_count": 203,
   "id": "21850ea8-8cd0-4056-87f7-ce9b0b47467b",
   "metadata": {},
   "outputs": [
    {
     "data": {
      "text/plain": [
       "(array([], dtype=int64),)"
      ]
     },
     "execution_count": 203,
     "metadata": {},
     "output_type": "execute_result"
    }
   ],
   "source": [
    "np.where(qs<0.1"
   ]
  },
  {
   "cell_type": "code",
   "execution_count": null,
   "id": "77b48b0d-3b64-449d-a7f7-0d1d575f6aba",
   "metadata": {},
   "outputs": [],
   "source": []
  },
  {
   "cell_type": "code",
   "execution_count": null,
   "id": "29586b7d-ccab-406e-84a1-afa343f34203",
   "metadata": {},
   "outputs": [],
   "source": []
  },
  {
   "cell_type": "code",
   "execution_count": null,
   "id": "dd8b16bf-012a-41fb-aeca-3e147c7f6816",
   "metadata": {},
   "outputs": [],
   "source": []
  },
  {
   "cell_type": "code",
   "execution_count": null,
   "id": "23b51669-7ee4-461c-819b-70936770c4bf",
   "metadata": {},
   "outputs": [],
   "source": []
  },
  {
   "cell_type": "code",
   "execution_count": 181,
   "id": "f604c46a-42f2-4499-a228-6153ef2b5174",
   "metadata": {},
   "outputs": [
    {
     "data": {
      "text/plain": [
       "('__label__neg', 0.8799633979797363)"
      ]
     },
     "execution_count": 181,
     "metadata": {},
     "output_type": "execute_result"
    }
   ],
   "source": [
    "l,p=model.predict(n)\n"
   ]
  },
  {
   "cell_type": "code",
   "execution_count": null,
   "id": "bdf118ae-3cf5-4e5e-8bd1-815581e701ac",
   "metadata": {},
   "outputs": [],
   "source": []
  },
  {
   "cell_type": "code",
   "execution_count": 176,
   "id": "a7e48fcc-c218-48e3-8661-1d6c5ca5c9cc",
   "metadata": {},
   "outputs": [
    {
     "data": {
      "text/plain": [
       "Dataset({\n",
       "    features: ['text', 'url', 'en_proba', 'erased_mail', 'n_erased_mail', 'erased_phone', 'n_erased_phone', 'gopher_verdict', 'sentences', 'sentences_normalized', 'dedup_text', 'erased_dedup', 'dedup_diff', 'id', 'dedup_sentences', 'dedup_sentences_normalized'],\n",
       "    num_rows: 199332\n",
       "})"
      ]
     },
     "execution_count": 176,
     "metadata": {},
     "output_type": "execute_result"
    }
   ],
   "source": [
    "ds"
   ]
  },
  {
   "cell_type": "code",
   "execution_count": null,
   "id": "9f8a8dfa-f349-4d46-a3de-5a8d6404c1ab",
   "metadata": {},
   "outputs": [],
   "source": []
  },
  {
   "cell_type": "code",
   "execution_count": 14,
   "id": "a79b3574-b11b-4b41-90e8-4d48f8eeffe0",
   "metadata": {},
   "outputs": [
    {
     "data": {
      "application/vnd.jupyter.widget-view+json": {
       "model_id": "272c2abc8cf047e28fd1fa3f5ab1f1ad",
       "version_major": 2,
       "version_minor": 0
      },
      "text/plain": [
       "Map:   0%|          | 0/9966 [00:00<?, ? examples/s]"
      ]
     },
     "metadata": {},
     "output_type": "display_data"
    }
   ],
   "source": [
    "def calculate_sentences_minhashes(examples, minhashes_sentence_field='dedup_sentences_normalized'):\n",
    "    entry_hashes = []\n",
    "    for entry_id, sentences in zip(examples['id'], examples[minhashes_sentence_field]):\n",
    "        sts_grouped = generate_3grams_sentences_groups(sentences)\n",
    "        sentence_hashes = []\n",
    "        for sts_id, sts_group in enumerate(sts_grouped):\n",
    "            text = ' '.join([s.replace('<PAD>', '') for s in sts_group])\n",
    "            minhash = create_minhash(text, num_perm=NUM_PERM, num_words_n_gram=N_GRAMS)\n",
    "            sts_key = str(entry_id)+'-'+str(sts_id)\n",
    "            sentence_hashes.append(pickle.dumps(minhash))\n",
    "        entry_hashes.append(sentence_hashes)\n",
    "    examples['sentences_hashes']=entry_hashes\n",
    "    return examples\n",
    "\n",
    "hs=ds.shuffle(22).select(range(len(ds)//20)).map(calculate_sentences_minhashes,batched=True)"
   ]
  },
  {
   "cell_type": "code",
   "execution_count": 17,
   "id": "d749b458-9095-4008-8a9e-bccabb4afa9c",
   "metadata": {},
   "outputs": [
    {
     "name": "stderr",
     "output_type": "stream",
     "text": [
      "100%|██████████████████████████████████████| 9966/9966 [00:06<00:00, 1595.96it/s]\n"
     ]
    }
   ],
   "source": [
    "lsh = MinHashLSH(threshold=JACCARD_THRESHOLD, num_perm=NUM_PERM)\n",
    "minhashes = {}\n",
    "\n",
    "for x in tqdm(hs):\n",
    "    for sid, h in enumerate(x['sentences_hashes']):\n",
    "        sts_key = str(x['id'])+'-'+str(sid)\n",
    "        m = pickle.loads(h)\n",
    "        lsh.insert(sts_key, m)\n",
    "        minhashes[sts_key]=m"
   ]
  },
  {
   "cell_type": "code",
   "execution_count": 18,
   "id": "6394d260-7401-4723-9c7f-4d53d6b3cfdd",
   "metadata": {},
   "outputs": [
    {
     "data": {
      "text/plain": [
       "Dataset({\n",
       "    features: ['text', 'url', 'en_proba', 'erased_mail', 'n_erased_mail', 'erased_phone', 'n_erased_phone', 'gopher_verdict', 'sentences', 'sentences_normalized', 'dedup_text', 'erased_dedup', 'dedup_diff', 'id', 'dedup_sentences', 'dedup_sentences_normalized'],\n",
       "    num_rows: 199332\n",
       "})"
      ]
     },
     "execution_count": 18,
     "metadata": {},
     "output_type": "execute_result"
    }
   ],
   "source": [
    "ds"
   ]
  },
  {
   "cell_type": "code",
   "execution_count": 44,
   "id": "ae898a9a-36e4-46c8-86a4-3ca8d377e1f8",
   "metadata": {},
   "outputs": [
    {
     "data": {
      "application/vnd.jupyter.widget-view+json": {
       "model_id": "5281b692db4e421ebf16d9b211021012",
       "version_major": 2,
       "version_minor": 0
      },
      "text/plain": [
       "Map:   0%|          | 0/9966 [00:00<?, ? examples/s]"
      ]
     },
     "metadata": {},
     "output_type": "display_data"
    }
   ],
   "source": [
    "\n",
    "nhs=hs.map(erase_duplicates,batched=True)"
   ]
  },
  {
   "cell_type": "code",
   "execution_count": 49,
   "id": "afd0f34e-0b74-4ed8-bbb4-7c152d53cead",
   "metadata": {},
   "outputs": [
    {
     "data": {
      "text/plain": [
       "98.99036108468103"
      ]
     },
     "execution_count": 49,
     "metadata": {},
     "output_type": "execute_result"
    }
   ],
   "source": [
    "sum(len(x) for x in nhs['dedup_lsh_text'])*100/sum(len(x) for x in nhs['dedup_text'])"
   ]
  },
  {
   "cell_type": "code",
   "execution_count": 59,
   "id": "c3034b41-930a-4084-94a3-8719551fb2a8",
   "metadata": {
    "jupyter": {
     "source_hidden": true
    }
   },
   "outputs": [
    {
     "data": {
      "text/plain": [
       "2.508528998595224"
      ]
     },
     "execution_count": 59,
     "metadata": {},
     "output_type": "execute_result"
    }
   ],
   "source": [
    "sum(1 for x in nhs['dedup_lsh_text'] if len(x.strip())==0)*100/len(nhs)"
   ]
  },
  {
   "cell_type": "code",
   "execution_count": 61,
   "id": "2bb5f43d-f59f-4294-864e-75a2ee84ee43",
   "metadata": {},
   "outputs": [
    {
     "data": {
      "text/plain": [
       "3.7928958458759783"
      ]
     },
     "execution_count": 61,
     "metadata": {},
     "output_type": "execute_result"
    }
   ],
   "source": [
    "sum(1 for x in nhs if x['dedup_lsh_text']!=x['dedup_text'])*100/len(nhs)"
   ]
  },
  {
   "cell_type": "code",
   "execution_count": 62,
   "id": "2c6f051e-b126-4550-b8a0-90736fe98632",
   "metadata": {},
   "outputs": [
    {
     "name": "stdout",
     "output_type": "stream",
     "text": [
      "https://www.theage.com.au/national/victoria/family-pleads-for-more-help-in-locating-melbourne-man-as-quake-search-enters-fifth-day-20230210-p5cjja.html?ref=rss&amp;utm_medium=rss&amp;utm_source=rss_national\n",
      "The daughter of a Melbourne man who is missing in Turkey following the region’s devastating earthquakes has pleaded for more help to find her father as the search enters its fifth day. Coburg woman Imren Bayram is still desperate to find her missing father Suat , who was in Kirikhan in the Turkish region of Hatay when the disaster occurred. Suat Bayram (right) with nephew Ulas Hussam and wife Bahar, who are all missing in Kirikhan, Hatay, after the earthquake. The 69-year-old man from Greenvale was visiting family in Cyprus for five weeks and was in Turkey with his nephew and his nephew’s wife, Ulas and Bahar Hussam. Four Australians, including Suat Bayram, had been reported missing. The body of Sydney man Can Pahali was found in Turkey on Thursday, the first confirmed Australian death of the tragedy. Foreign Minister Penny Wong on Friday confirmed another Australian reported missing had been located. The identity of the person is not yet known. Five days after the deadly earthquakes which left more than 20,000 dead , the Bayram family wants the Australian government to do more to find their beloved father and grandfather. “My heart goes out to everybody who has been affected by this earthquake and anyone who has family there, it’s been a nightmare,” Imren Bayram said on Friday. She said she wanted to see Australian troops or emergency staff sent to the address where her father was staying. Bayram said she had spoken to the Department of Foreign Affairs and Trade, which passed on her request. She was also told the government was in contact with the embassy in Ankara. “We’ve also contacted them and they’re checking hospital records to see if my father has been in hospital. They’re doing that,” she said. Greenvale man Suat Bayram, 69, was visiting Turkey with family when the deadly earthquakes struck. Bayram has reached out to politicians in a bid to get more assistance, but said DFAT told her it was the Turkish government that decided where aid and assistance would be allocated. “I’m getting closed doors everywhere I go,” she said. Bayram had also been in touch with humanitarian organisations in a bid to find more information about what was happening on the ground. “I’m constantly on the phone, constantly trying to do what we can to have action taken. My brother-in-law is there. He left Australia a couple of days ago, so he should be getting there soon, we’re doing everything we possibly can [to find him].” The Department of Foreign Affairs and Trade said it was providing consular assistance to the family of Pahali and to the families of another two Australians who remained unaccounted for. DFAT said its teams in Turkey and Lebanon were supporting around 60 Australians and their families who were in the earthquake zone and that diplomatic missions in Ankara, Istanbul and Beirut were doing all they could to support families and reach out to Australians reported to be in the area. More than 20,000 people have been confirmed dead after this week’s earthquakes in southern Turkey and northern Syria, which were recorded as being of magnitudes of 7.8 and 7.5. About 4000 people gathered at the Melbourne Grand Mosque in Tarneit, in Melbourne’s west, on Friday afternoon to pray for those affected by the earthquakes. Mosque president Rifai Raheem said he saw many new faces at the prayer service, which are usually held twice a day and attended by about 3000 people on Fridays. Raheem said a member of the community who was visiting family in Turkey when the earthquake struck called on Thursday night and asked him to pray for them. “He was crying, he lost two of his cousins. He says: ‘I can’t describe this situation. It’s like judgement day. It’s like the end of the world.’ ” Raheem said many in the community were desperate to help and that people had queued to contribute money to the earthquake relief effort. Fazilet Baskan, a volunteer for Islamic Relief, said attendees at Friday’s service donated out of a sense of compassion, raising at least $25,000 for the global aid organisation. “When the body aches, we all feel it. ERASED_BY_DEDUP_LSH<|It’s like one body, one community,” Baskan said.]|> ERASED_BY_DEDUP_LSH<|Get a note directly from our foreign correspondents on what’s making headlines around the world.]|> ERASED_BY_DEDUP_LSH<|Sign up for the weekly What in the World newsletter here .]|>\n",
      "========\n"
     ]
    },
    {
     "data": {
      "text/plain": [
       "'The daughter of a Melbourne man who is missing in Turkey following the region’s devastating earthquakes has pleaded for more help to find her father as the search enters its fifth day. Coburg woman Imren Bayram is still desperate to find her missing father Suat , who was in Kirikhan in the Turkish region of Hatay when the disaster occurred. Suat Bayram (right) with nephew Ulas Hussam and wife Bahar, who are all missing in Kirikhan, Hatay, after the earthquake. The 69-year-old man from Greenvale was visiting family in Cyprus for five weeks and was in Turkey with his nephew and his nephew’s wife, Ulas and Bahar Hussam. Four Australians, including Suat Bayram, had been reported missing. The body of Sydney man Can Pahali was found in Turkey on Thursday, the first confirmed Australian death of the tragedy. Foreign Minister Penny Wong on Friday confirmed another Australian reported missing had been located. The identity of the person is not yet known. Five days after the deadly earthquakes which left more than 20,000 dead , the Bayram family wants the Australian government to do more to find their beloved father and grandfather. “My heart goes out to everybody who has been affected by this earthquake and anyone who has family there, it’s been a nightmare,” Imren Bayram said on Friday. She said she wanted to see Australian troops or emergency staff sent to the address where her father was staying. Bayram said she had spoken to the Department of Foreign Affairs and Trade, which passed on her request. She was also told the government was in contact with the embassy in Ankara. “We’ve also contacted them and they’re checking hospital records to see if my father has been in hospital. They’re doing that,” she said. Greenvale man Suat Bayram, 69, was visiting Turkey with family when the deadly earthquakes struck. Bayram has reached out to politicians in a bid to get more assistance, but said DFAT told her it was the Turkish government that decided where aid and assistance would be allocated. “I’m getting closed doors everywhere I go,” she said. Bayram had also been in touch with humanitarian organisations in a bid to find more information about what was happening on the ground. “I’m constantly on the phone, constantly trying to do what we can to have action taken. My brother-in-law is there. He left Australia a couple of days ago, so he should be getting there soon, we’re doing everything we possibly can [to find him].” The Department of Foreign Affairs and Trade said it was providing consular assistance to the family of Pahali and to the families of another two Australians who remained unaccounted for. DFAT said its teams in Turkey and Lebanon were supporting around 60 Australians and their families who were in the earthquake zone and that diplomatic missions in Ankara, Istanbul and Beirut were doing all they could to support families and reach out to Australians reported to be in the area. More than 20,000 people have been confirmed dead after this week’s earthquakes in southern Turkey and northern Syria, which were recorded as being of magnitudes of 7.8 and 7.5. About 4000 people gathered at the Melbourne Grand Mosque in Tarneit, in Melbourne’s west, on Friday afternoon to pray for those affected by the earthquakes. Mosque president Rifai Raheem said he saw many new faces at the prayer service, which are usually held twice a day and attended by about 3000 people on Fridays. Raheem said a member of the community who was visiting family in Turkey when the earthquake struck called on Thursday night and asked him to pray for them. “He was crying, he lost two of his cousins. He says: ‘I can’t describe this situation. It’s like judgement day. It’s like the end of the world.’ ” Raheem said many in the community were desperate to help and that people had queued to contribute money to the earthquake relief effort. Fazilet Baskan, a volunteer for Islamic Relief, said attendees at Friday’s service donated out of a sense of compassion, raising at least $25,000 for the global aid organisation. “When the body aches, we all feel it.'"
      ]
     },
     "execution_count": 62,
     "metadata": {},
     "output_type": "execute_result"
    }
   ],
   "source": [
    "for x in nhs.shuffle(50):\n",
    "    if x['dedup_lsh_text']!=x['dedup_text']:\n",
    "        break\n",
    "print(x['url'])\n",
    "print(x['dedup_lsh_diff'])\n",
    "print('========')\n",
    "x['dedup_lsh_text'].strip()"
   ]
  },
  {
   "cell_type": "code",
   "execution_count": null,
   "id": "6849c164-6e9a-4cf2-bab9-cf206e577c1d",
   "metadata": {},
   "outputs": [],
   "source": []
  },
  {
   "cell_type": "code",
   "execution_count": null,
   "id": "8035127b-af92-4c40-8e91-df60fc6fea2e",
   "metadata": {},
   "outputs": [],
   "source": []
  },
  {
   "cell_type": "code",
   "execution_count": 26,
   "id": "1e2849a5-8927-462d-896a-f4fddc3bd39b",
   "metadata": {},
   "outputs": [],
   "source": [
    "def is_repated(key):\n",
    "    return adj[key]>1"
   ]
  },
  {
   "cell_type": "code",
   "execution_count": 27,
   "id": "b63e160f-f7a8-4520-be73-deb7e7c1175a",
   "metadata": {},
   "outputs": [
    {
     "data": {
      "text/plain": [
       "True"
      ]
     },
     "execution_count": 27,
     "metadata": {},
     "output_type": "execute_result"
    }
   ],
   "source": [
    "is_repated('159596-4')"
   ]
  },
  {
   "cell_type": "code",
   "execution_count": 28,
   "id": "c404b27c-6094-454a-a137-a25b89a935ef",
   "metadata": {},
   "outputs": [
    {
     "data": {
      "text/plain": [
       "False"
      ]
     },
     "execution_count": 28,
     "metadata": {},
     "output_type": "execute_result"
    }
   ],
   "source": [
    "is_repated('159596-1')"
   ]
  },
  {
   "cell_type": "code",
   "execution_count": 23,
   "id": "0e724fac-1124-4b50-aae1-0868eeb07c8b",
   "metadata": {},
   "outputs": [
    {
     "name": "stderr",
     "output_type": "stream",
     "text": [
      "100%|███████████████████████████████████| 84010/84010 [00:00<00:00, 89436.08it/s]\n"
     ]
    }
   ],
   "source": [
    "adj = defaultdict(int)\n",
    "for i, m in tqdm(minhashes.items()):\n",
    "    result = lsh.query(m)\n",
    "    if len(result)>1:\n",
    "        for r in result:\n",
    "            if r!=i:\n",
    "                adj[i]+=1\n",
    "                adj[r]+=1"
   ]
  },
  {
   "cell_type": "code",
   "execution_count": 19,
   "id": "968d0e1b-b938-421d-b341-eb26461cc939",
   "metadata": {},
   "outputs": [
    {
     "name": "stdout",
     "output_type": "stream",
     "text": [
      "159596-4 is similar to: ['183315-4', '159596-4']\n",
      "190504-2 is similar to: ['194910-2', '190504-2']\n",
      "187548-4 is similar to: ['157532-4', '169350-5', '187528-2', '188088-2', '187548-4']\n",
      "180859-0 is similar to: ['168849-0', '180859-0']\n",
      "28886-5 is similar to: ['28886-5', '27029-5']\n",
      "114591-5 is similar to: ['188088-2', '114591-5', '108217-2']\n"
     ]
    }
   ],
   "source": [
    "c=0\n",
    "for i, m in minhashes.items():\n",
    "    result = lsh.query(m)\n",
    "    if len(result)>1:\n",
    "        print(f\"{i} is similar to: {result}\")\n",
    "        c+=1\n",
    "    if c>5:\n",
    "        break"
   ]
  },
  {
   "cell_type": "code",
   "execution_count": null,
   "id": "e586bc2b-d95d-41ef-9059-9dc85e6d159d",
   "metadata": {},
   "outputs": [],
   "source": [
    "def find_group(d, entry_id, group_id):\n",
    "    nd=d.filter(lambda batch : [ x==entry_id for x in batch['id'] ], batched=True)\n",
    "    assert len(nd)==1, len(nd)\n",
    "    groups = generate_3grams_sentences_groups(nd[0]['dedup_sentences_normalized'])\n",
    "    return nd[0],groups[group_id]\n",
    "\n",
    "e,g=find_group(hashed, 187548, 4)\n",
    "print(e['dedup_text'])\n",
    "g"
   ]
  },
  {
   "cell_type": "code",
   "execution_count": 165,
   "id": "f0a72cd7-1c19-43df-9a4b-d1729debb670",
   "metadata": {},
   "outputs": [
    {
     "data": {
      "text/plain": [
       "0.5813953488372093"
      ]
     },
     "execution_count": 165,
     "metadata": {},
     "output_type": "execute_result"
    }
   ],
   "source": [
    "jaccard_texts(' '.join(find_group(hashed, 187548, 4)[1]), ' '.join(find_group(hashed, 157532, 4)[1]))"
   ]
  },
  {
   "cell_type": "code",
   "execution_count": 185,
   "id": "2cb5970b-8774-4a9c-be02-971bc41b8108",
   "metadata": {},
   "outputs": [
    {
     "data": {
      "text/plain": [
       "True"
      ]
     },
     "execution_count": 185,
     "metadata": {},
     "output_type": "execute_result"
    }
   ],
   "source": [
    "lsh = MinHashLSH(threshold=threshold, num_perm=num_perm)\n",
    "\n",
    "lsh.is_empty()"
   ]
  },
  {
   "cell_type": "code",
   "execution_count": 128,
   "id": "070b4d2b-8678-4c8f-b03f-d98140f86ae3",
   "metadata": {},
   "outputs": [
    {
     "data": {
      "text/plain": [
       "[('company', 6)]"
      ]
     },
     "execution_count": 128,
     "metadata": {},
     "output_type": "execute_result"
    }
   ],
   "source": [
    "sentence_count_sorted = sorted(list(global_sentence_count.items()), key=lambda x : -x[1])\n",
    "short_sentences = []\n",
    "for s,c in sentence_count_sorted:\n",
    "    s=s.replace('<SEP>','').replace('<PAD>','')\n",
    "    if len(s.split())==1 and c>2:\n",
    "        short_sentences.append((s,c))\n",
    "short_sentences"
   ]
  },
  {
   "cell_type": "code",
   "execution_count": 147,
   "id": "e7599579-7355-4e60-a9d1-b153a7957acb",
   "metadata": {},
   "outputs": [
    {
     "data": {
      "text/plain": [
       "[('https://www.independent.co.uk/extras/indybest/house-garden/household-appliances/best-air-purifier-reviews-allergies-b1843275.html',\n",
       "  3),\n",
       " ('https://www.bbc.com/sport/get-inspired/23167387', 3),\n",
       " ('https://www.reuters.com/video/breakingviews', 3),\n",
       " ('https://www.bbc.com/news/england/suffolk', 3),\n",
       " ('https://www.bbc.com/sport/get-inspired/23270238', 3),\n",
       " ('https://www.independent.co.uk/extras/indybest/house-garden/mattresses/best-mattress-a6950396.html',\n",
       "  3),\n",
       " ('https://www.bbc.com/news/wales', 3),\n",
       " ('https://www.latimes.com/world-nation/story/2022-06-20/title-ix-ann-meyers-drysdale-shares-how-law-shaped-her-life',\n",
       "  2),\n",
       " ('https://www.telegraph.co.uk/travel/destinations/europe/netherlands/amsterdam/articles/amsterdam-nightlife/',\n",
       "  2),\n",
       " ('https://www.usatoday.com/picture-gallery/life/entertainthis/2017/06/17/prince-william-photos-through-the-years/102945348/',\n",
       "  2),\n",
       " ('https://www.cbsnews.com/video/the-uplift-a-nun-a-navy-mom-a-new-grad/', 2),\n",
       " ('https://www.bbc.com/sport/get-inspired/23147581', 2),\n",
       " ('https://www.independent.co.uk/extras/indybest/gadgets-tech/best-vpn-free-paid-iphone-android-streaming-netflix-mac-windows-torrenting-b1811919.html',\n",
       "  2),\n",
       " ('https://www.independent.co.uk/extras/indybest/fashion-beauty/hair/best-hair-curler-tong-wand-ghd-b1774804.html',\n",
       "  2),\n",
       " ('https://www.theguardian.com/world/2023/feb/01/myanmar-oil-gas-companies-profits-regime-coup',\n",
       "  2),\n",
       " ('https://www.cnbc.com/2022/11/08/disney-dis-earnings-q4-2022.html', 2),\n",
       " ('https://www.latimes.com/opinion/story/2022-11-25/diaries-of-war-ukraine-russia-comics-week-39',\n",
       "  2),\n",
       " ('https://www.telegraph.co.uk/travel/destinations/europe/united-kingdom/articles/the-best-hotels-for-spa-breaks-in-the-uk/',\n",
       "  2),\n",
       " ('https://www.cnn.com/2022/07/20/europe/russia-ukraine-estonia-refugees/index.html',\n",
       "  2),\n",
       " ('https://www.cnn.com/style/article/magic-mirror-cincinnati-art-museum-scn/index.html',\n",
       "  2)]"
      ]
     },
     "execution_count": 147,
     "metadata": {},
     "output_type": "execute_result"
    }
   ],
   "source": [
    "# URL dedup\n",
    "sorted([(k,v) for k,v in Counter(ds['url']).items() if v>1], key=lambda x : -x[1])[:20]"
   ]
  },
  {
   "cell_type": "code",
   "execution_count": 151,
   "id": "5114ffa6-4125-4777-8576-a212ffad9025",
   "metadata": {},
   "outputs": [
    {
     "name": "stderr",
     "output_type": "stream",
     "text": [
      "100%|█████████████████████████████████████████████| 2/2 [00:00<00:00, 798.46it/s]\n"
     ]
    }
   ],
   "source": [
    "global_sentence_count = None\n",
    "def calculate_sentence_count():\n",
    "    global global_sentence_count\n",
    "    assert global_sentence_count is None\n",
    "    global_sentence_count = defaultdict(int)\n",
    "    for x in tqdm(a):\n",
    "        sts_grouped = generate_3grams_sentences_groups(x['sentences_normalized'])\n",
    "        for sts_group in sts_grouped:\n",
    "            global_sentence_count[join_3gram(sts_group)]+=1\n",
    "calculate_sentence_count()"
   ]
  },
  {
   "cell_type": "code",
   "execution_count": null,
   "id": "8dc45b16-396d-495e-97b7-fb700d407700",
   "metadata": {},
   "outputs": [],
   "source": []
  },
  {
   "cell_type": "code",
   "execution_count": null,
   "id": "c9914e58-3fe8-4087-a6c6-5786cc1414a0",
   "metadata": {},
   "outputs": [],
   "source": [
    "for "
   ]
  },
  {
   "cell_type": "code",
   "execution_count": null,
   "id": "7b94d96a-aa01-49d4-9599-bf5453dfe044",
   "metadata": {},
   "outputs": [],
   "source": []
  },
  {
   "cell_type": "code",
   "execution_count": 158,
   "id": "0b8b029a-9299-4dd5-b24d-71d3b635c442",
   "metadata": {},
   "outputs": [
    {
     "data": {
      "application/vnd.jupyter.widget-view+json": {
       "model_id": "7b3c8f29bec2413c9f2d2a8939c1133f",
       "version_major": 2,
       "version_minor": 0
      },
      "text/plain": [
       "config.json:   0%|          | 0.00/569 [00:00<?, ?B/s]"
      ]
     },
     "metadata": {},
     "output_type": "display_data"
    },
    {
     "data": {
      "application/vnd.jupyter.widget-view+json": {
       "model_id": "57c48eea6b9840339d6b094353fa3759",
       "version_major": 2,
       "version_minor": 0
      },
      "text/plain": [
       "model.safetensors:   0%|          | 0.00/375M [00:00<?, ?B/s]"
      ]
     },
     "metadata": {},
     "output_type": "display_data"
    },
    {
     "data": {
      "application/vnd.jupyter.widget-view+json": {
       "model_id": "724fa20b610f4cffb6573984caacfce8",
       "version_major": 2,
       "version_minor": 0
      },
      "text/plain": [
       "tokenizer_config.json:   0%|          | 0.00/396 [00:00<?, ?B/s]"
      ]
     },
     "metadata": {},
     "output_type": "display_data"
    },
    {
     "data": {
      "application/vnd.jupyter.widget-view+json": {
       "model_id": "54fe7a3719cd446b9cf12276a73a2e94",
       "version_major": 2,
       "version_minor": 0
      },
      "text/plain": [
       "tokenizer.json:   0%|          | 0.00/2.11M [00:00<?, ?B/s]"
      ]
     },
     "metadata": {},
     "output_type": "display_data"
    },
    {
     "data": {
      "application/vnd.jupyter.widget-view+json": {
       "model_id": "c662d8f2c0a2464aaa4652bd94a1312a",
       "version_major": 2,
       "version_minor": 0
      },
      "text/plain": [
       "special_tokens_map.json:   0%|          | 0.00/99.0 [00:00<?, ?B/s]"
      ]
     },
     "metadata": {},
     "output_type": "display_data"
    },
    {
     "name": "stderr",
     "output_type": "stream",
     "text": [
      "Device set to use mps:0\n"
     ]
    },
    {
     "data": {
      "text/plain": [
       "<transformers.pipelines.text_generation.TextGenerationPipeline at 0x4007b2c10>"
      ]
     },
     "execution_count": 158,
     "metadata": {},
     "output_type": "execute_result"
    }
   ],
   "source": [
    "# Use a pipeline as a high-level helper\n",
    "from transformers import pipeline\n",
    "\n",
    "pipe = pipeline(\"text-generation\", model=\"EleutherAI/pythia-160m-deduped\")\n",
    "pipe"
   ]
  },
  {
   "cell_type": "code",
   "execution_count": 73,
   "id": "a3eed210-7b4c-424b-b94b-782dfb38201d",
   "metadata": {},
   "outputs": [],
   "source": [
    "# Load model directly\n",
    "from transformers import AutoTokenizer, AutoModelForCausalLM\n",
    "\n",
    "tokenizer = AutoTokenizer.from_pretrained(\"EleutherAI/pythia-160m-deduped\")\n",
    "model = AutoModelForCausalLM.from_pretrained(\"EleutherAI/pythia-160m-deduped\").to(device)"
   ]
  },
  {
   "cell_type": "code",
   "execution_count": 90,
   "id": "3e84da5b-f562-4c9e-9366-cd5f2ce9bd2f",
   "metadata": {},
   "outputs": [],
   "source": [
    "\n"
   ]
  },
  {
   "cell_type": "code",
   "execution_count": 81,
   "id": "ce5d31e2-036f-4d35-82ff-99307e9011cc",
   "metadata": {},
   "outputs": [
    {
     "data": {
      "text/plain": [
       "torch.Size([1, 328800])"
      ]
     },
     "execution_count": 81,
     "metadata": {},
     "output_type": "execute_result"
    }
   ],
   "source": [
    "encodings['input_ids'].shape"
   ]
  },
  {
   "cell_type": "code",
   "execution_count": 71,
   "id": "a37563c2-cfba-47cd-8639-f1219af4befe",
   "metadata": {},
   "outputs": [
    {
     "data": {
      "text/plain": [
       "'mps'"
      ]
     },
     "execution_count": 71,
     "metadata": {},
     "output_type": "execute_result"
    }
   ],
   "source": [
    "from accelerate.test_utils.testing import get_backend\n",
    "\n",
    "device, _, _ = get_backend()\n",
    "device"
   ]
  },
  {
   "cell_type": "code",
   "execution_count": 117,
   "id": "6b954f6e-8e57-4226-b4ba-b57cdc34eb6e",
   "metadata": {},
   "outputs": [],
   "source": [
    "dr = ds.shuffle(33).select(range(5000))"
   ]
  },
  {
   "cell_type": "code",
   "execution_count": 128,
   "id": "7ea73f20-fc17-4951-8a4a-aad63c9177fd",
   "metadata": {},
   "outputs": [
    {
     "name": "stderr",
     "output_type": "stream",
     "text": [
      "  9%|███▌                                     | 171/2000 [01:54<14:45,  2.07it/s]"
     ]
    },
    {
     "name": "stdout",
     "output_type": "stream",
     "text": [
      "Seen On TV NEXT Traffic KCAL News Daily Guests CBS News Los Angeles: Free 24/7 News CBSNews.com STEAM Veterans' Voices Inside SoCal Paramount+ CBS+ News All News LA News OC News IE News U.S. CBS2 Investigations Entertainment Politics Consumer Business Health On Your Side Weather Latest Weather Radars & Maps Sports All Sports Chargers Rams Lakers Clippers Golf CBS Sports Live Dodgers Angels Soccer Hockey College Sports Video More Station Info KCAL News Team Contests & Promotions Advertise Seen on TV News Tips Download the App Galleries Log In Search Search Live TV Watch CBS News Drake takes a look at \"Equalizer 3”, “Bottoms” and recommends a Labor Day weekend stream choice, “War of the Worlds” View CBS News In CBS News App Open Chrome Safari Continue Be the first to know Get browser notifications for breaking news, live events, and exclusive reporting. Not Now Turn On\n",
      "ok\n",
      "170 tensor(202.6408, device='mps:0')\n"
     ]
    },
    {
     "name": "stderr",
     "output_type": "stream",
     "text": [
      " 27%|███████████                              | 537/2000 [06:25<12:40,  1.92it/s]"
     ]
    },
    {
     "name": "stdout",
     "output_type": "stream",
     "text": [
      "The push is on to fix ruptures in the levee around Pajaro before the rainy season returns. Kelsi Thorud reports. (9-15-23) View CBS News In CBS News App Open Chrome Safari Continue Be the first to know Get browser notifications for breaking news, live events, and exclusive reporting. Not Now Turn On\n",
      "ok\n",
      "536 tensor(166.5354, device='mps:0')\n"
     ]
    },
    {
     "name": "stderr",
     "output_type": "stream",
     "text": [
      " 36%|██████████████▋                          | 718/2000 [08:09<15:38,  1.37it/s]"
     ]
    },
    {
     "name": "stdout",
     "output_type": "stream",
     "text": [
      "Dive into these books The queen's coronation 10 you must see What it means for TV U.S. Sports Entertainment Life Money Tech Travel Opinion Obituaries ONLY AT USA TODAY: Newsletters For Subscribers From the Archives Crossword eNewspaper Magazines Investigations Weather Forecast Podcasts Video Humankind Just Curious Best-selling Booklist Pets Food Reviewed Coupons Blueprint Best Auto Insurance Best Pet Insurance Best Travel Insurance Best Credit Cards Best CD Rates Best Personal Loans Watch Next Disney's 'Haunted Mansion' scares up an all-star cast\n",
      "ok\n"
     ]
    },
    {
     "name": "stderr",
     "output_type": "stream",
     "text": [
      " 36%|██████████████▋                          | 719/2000 [08:11<20:35,  1.04it/s]"
     ]
    },
    {
     "name": "stdout",
     "output_type": "stream",
     "text": [
      "718 tensor(196.1977, device='mps:0')\n"
     ]
    },
    {
     "name": "stderr",
     "output_type": "stream",
     "text": [
      " 67%|██████████████████████████▊             | 1338/2000 [15:25<06:04,  1.82it/s]"
     ]
    },
    {
     "name": "stdout",
     "output_type": "stream",
     "text": [
      "CBS News Texas: Free 24/7 News CBS Texas App I-Team Links & Numbers National News Meet The Staff/Send Tips Contests Eat See Play CBS+ News Local Business Politics Consumer Education Tech The I-Team HealthWatch Entertainment CBS+ Weather Texas Weather Live Radar Closings/Cancellations Gardening 101 Weather on Wheels Mobile 11 Sports All Sport CBS Sports Live Cowboys Rangers Mavericks Stars FC Dallas Wings NASCAR Golf Tennis UFC College Sports High School Sports Video More Station Info CBS 11 / TXA 21 Advertise Links & Nubmers CBS Television Jobs Upload Your Photos Galleries Contests & Promotions Download the App Log In Search Search Live TV Watch CBS News DFW hasn't had measurable rain in 42 days. It didn't last long, but it was nice to see the rain. View CBS News In CBS News App Open Chrome Safari Continue Be the first to know Get browser notifications for breaking news, live events, and exclusive reporting. Not Now Turn On\n",
      "ok\n",
      "1337 tensor(215.1209, device='mps:0')\n"
     ]
    },
    {
     "name": "stderr",
     "output_type": "stream",
     "text": [
      " 73%|█████████████████████████████▏          | 1461/2000 [16:39<04:42,  1.91it/s]"
     ]
    },
    {
     "name": "stdout",
     "output_type": "stream",
     "text": [
      "TV Schedule CBS News Sacramento: Free 24/7 News First Alert Weather CBS Sacramento App CBSNews.com CBS+ Paramount+ Pluto TV Video Info Segments Bios More News Contests Station Info Contact Us Daily Photos Editor's Picks 5AM Club Search Search Login Watch CBS News Have you ever wondered how to hatch a reader? It starts with a good book! Dina Kupfer is at Ruby's Books in Folsom meeting Carmichael native Kari Ann Gonzalez, getting a look and read of her debut picture book \"\" View CBS News In CBS News App Open Chrome Safari Continue Be the first to know Get browser notifications for breaking news, live events, and exclusive reporting. Not Now Turn On\n",
      "ok\n",
      "1460 tensor(264.8730, device='mps:0')\n"
     ]
    },
    {
     "name": "stderr",
     "output_type": "stream",
     "text": [
      " 86%|██████████████████████████████████▌     | 1730/2000 [19:21<01:55,  2.33it/s]"
     ]
    },
    {
     "name": "stdout",
     "output_type": "stream",
     "text": [
      "We have team coverage on Thursday of the last preseason game. Alicia Roberts will break down what we can expect tonight at the Linc and Howard Monroe reports preseason or not the fans are fired up. View CBS News In CBS News App Open Chrome Safari Continue Be the first to know Get browser notifications for breaking news, live events, and exclusive reporting. Not Now Turn On\n",
      "ok\n",
      "1729 tensor(206.8267, device='mps:0')\n"
     ]
    },
    {
     "name": "stderr",
     "output_type": "stream",
     "text": [
      "100%|████████████████████████████████████████| 2000/2000 [21:52<00:00,  1.52it/s]\n"
     ]
    }
   ],
   "source": [
    "import torch\n",
    "from tqdm import tqdm\n",
    "\n",
    "def f(i):\n",
    "    encodings = tokenizer(dr[i]['text'].strip('\\n'), return_tensors=\"pt\")\n",
    "    \n",
    "    max_length = model.config.max_position_embeddings\n",
    "    stride = max_length//2\n",
    "    seq_len = encodings.input_ids.size(1)\n",
    "    \n",
    "    nll_sum = 0.0\n",
    "    n_tokens = 0\n",
    "    prev_end_loc = 0\n",
    "    for begin_loc in range(0, seq_len, stride):\n",
    "        end_loc = min(begin_loc + max_length, seq_len)\n",
    "        trg_len = end_loc - prev_end_loc  # may be different from stride on last loop\n",
    "        input_ids = encodings.input_ids[:, begin_loc:end_loc].to(device)\n",
    "        target_ids = input_ids.clone()\n",
    "        target_ids[:, :-trg_len] = -100\n",
    "    \n",
    "        with torch.no_grad():\n",
    "            outputs = model(input_ids, labels=target_ids)\n",
    "    \n",
    "            # loss is calculated using CrossEntropyLoss which averages over valid labels\n",
    "            # N.B. the model only calculates loss over trg_len - 1 labels, because it internally shifts the labels\n",
    "            # to the left by 1.\n",
    "            neg_log_likelihood = outputs.loss\n",
    "    \n",
    "        # Accumulate the total negative log-likelihood and the total number of tokens\n",
    "        num_valid_tokens = (target_ids != -100).sum().item()  # number of valid tokens in target_ids\n",
    "        batch_size = target_ids.size(0)\n",
    "        num_loss_tokens = num_valid_tokens - batch_size  # subtract batch_size due to internal label shift\n",
    "        nll_sum += neg_log_likelihood * num_loss_tokens\n",
    "        n_tokens += num_loss_tokens\n",
    "    \n",
    "        prev_end_loc = end_loc\n",
    "        if end_loc == seq_len:\n",
    "            break\n",
    "    \n",
    "    avg_nll = nll_sum / n_tokens  # average negative log-likelihood per token\n",
    "    ppl = torch.exp(avg_nll)\n",
    "    return ppl\n",
    "\n",
    "\n",
    "\n",
    "maxi = 0\n",
    "ps=[]\n",
    "for i in tqdm(range(0,2000)):\n",
    "    if dr[i]['gopher_verdict']!='ok':\n",
    "        ps.append(-1)\n",
    "        continue\n",
    "    p=f(i)\n",
    "    ps.append(p)\n",
    "    dr[i]['p']=p\n",
    "    if p>150:\n",
    "        if p>maxi:\n",
    "            maxi = p\n",
    "        print(dr[i]['text'].strip('\\n'))\n",
    "        print(dr[i]['gopher_verdict'])\n",
    "        print(i,f(i))\n",
    "        "
   ]
  },
  {
   "cell_type": "code",
   "execution_count": 133,
   "id": "4ea00168-c37a-4743-80e1-6bf68e0a36ce",
   "metadata": {
    "jupyter": {
     "source_hidden": true
    }
   },
   "outputs": [],
   "source": [
    "pr = [x if isinstance(x,int) else x.item() for x in ps]"
   ]
  },
  {
   "cell_type": "code",
   "execution_count": 169,
   "id": "9f4c5f10-998b-44de-8a4a-b8394672ac7e",
   "metadata": {},
   "outputs": [
    {
     "data": {
      "text/plain": [
       "np.float64(0.85)"
      ]
     },
     "execution_count": 169,
     "metadata": {},
     "output_type": "execute_result"
    }
   ],
   "source": [
    "(pr>75).sum()*100 / len(pr)"
   ]
  },
  {
   "cell_type": "code",
   "execution_count": 167,
   "id": "d53cddfd-1bbd-48cc-b3d0-2bd01d7b0fdd",
   "metadata": {},
   "outputs": [
    {
     "name": "stdout",
     "output_type": "stream",
     "text": [
      "77.26447296142578\n",
      "“A friend recently sent through the temporary rules applying to Richmond Golf Club in England in 1940,” writes Malcolm McEwen of North Turramurra. “German aircraft returning to Norway would clear their guns as they crossed the coast by firing a few rounds at golf courses. Among the rules: ‘In competition, during gunfire or while bombs are falling, players may take cover without penalty for ceasing play.’ They could also take a shot from a bomb crater without penalty, but my favourite is this: ‘A player whose stroke is affected by the simultaneous explosion of a bomb may play another ball from the same place. Penalty one stroke.’ Tough but fair. I wondered why you’d play during a bombing raid, but then I know a few golfers.” Marjie Williamson of Blaxland recalls: “A ride to Manly by ferry was exhilarating in my far-off youth. Now, reading about the unseaworthiness (C8) of the new ferries, maybe I’ll forgo that pleasure or have some swimming lessons.” It’s a mug’s game, reckons Evan Bailey of Glebe: “Of course, there’s no sign of Dave Warner From The Suburbs (C8), as he sadly sings: ‘I know what it’s like, to be rejected every night.’” “I saw a wonderful production of Summer of the Seventeenth Doll at the Genesian Theatre the other night,” says Ros Bilbe of Lindfield. “Sadly, there were not many bums on seats. The company performs in one of Sydney’s oldest churches, soon to be re-designed by developers. Having seen the play many times, including London’s West End in the 1950s, I think this production is my favourite.” The company will remain at Kent Street for the rest of 2022 before relocating to Rozelle. Seppo Ranki of Glenhaven is game: “I’m with Nola Tucker on expanding the Commonwealth Games (C8) repertoire to Welly throwing. Why not add the Finnish classic wife-carrying contest or a game of Finska, which should be at least as interesting as lawn bowls.” According to Anne Cook of Ermington, a person’s name consisting of one word (C8) is known as a mononym and as to those mononymic celebrities who left us too soon, she suggests Prince. “During the Vietnam War, a town in the Australian operational area was Dat Do – which the Aussies immediately rechristened Dapto (C8),” reports Lance Rainey of Rushforth.  \n",
      "========\n",
      "95.95552062988281\n",
      "By RNZ\n",
      "A Deed of Settlement signed today between the Crown and Te Korowai o Wainuiārua iwi groups includes a Crown apology and a redress package worth nearly $30 million.\n",
      "Nineteen sites of cultural significance and 12 commercial properties will also be returned.\n",
      "The historical grievances of the Central Whanganui iwi included warfare and the imposition of martial law.\n",
      "Advertisement Advertise with NZME. The Crown also acquired land that resulted in iwi becoming virtually landless, including what later became Tongariro National Park.\n",
      "========\n",
      "89.17022705078125\n",
      "Leukemia patient meets the perfect match that saved his life – CBS Los Angeles\n",
      "Watch CBS News\n",
      "Leukemia patient Jared Lipscomb, 31, finally got to meet the German stem cell donor that saved his life thanks to Be The Match registry.\n",
      "Be the first to know\n",
      "Get browser notifications for breaking news, live events, and exclusive reporting.\n",
      "Not Now\n",
      "Turn On\n",
      "File source\n",
      "Washington News Post Latest Breaking News, Headlines\n",
      "Washington News Post || World News || USA News || Washington ||\n",
      "Celebrity News || Movie Review\n",
      "========\n",
      "91.13135528564453\n",
      "By Hedy Damari Add articles to your saved list and come back to them any time. Free weekly forecast in life, love and career from renowned Astrologer Hedy Damari. Art by Eliza Iredale Make the most of your health, relationships, fitness and nutrition with our Live Well newsletter . \n",
      "========\n",
      "83.80126953125\n",
      "Jockeys “tend to follow the flock like sheep”; great jockeys think outside the square, have their own opinion and back their judgment, as Nash Rawiller expressed to Melbourne media. Rawiller produced two rides – one daring or possibly dangerous - at the recent Royal Randwick Championships that rate with the all-time controversial. In fact, it is doubtful whether their like has ever been seen before on consecutive Saturdays. However, the powerhouse hoop’s comment was centred around his son, Campbell, an apprentice now based in South Australia. In search of better ground, Rawiller senior plotted a successful course high and wide in the Queen Elizabeth Stakes at Randwick. But Campbell zigzagged in and out on the Oakbank circuit last Saturday, covering far more territory to score on Plympton. Still, Nash Rawiller’s two triumphs, in some ways epic, challenged the rules of race riding at Randwick, while the expertise of rivals - including James McDonald and Tom Berry - last Saturday emphasised the current high quality of Sydney jockeys. James McDonald salutes the Randwick crowd after winning the All Aged Stakes on Cascadian. Credit: Getty JMac’s handling of Cascadian, finding the best lanes in a testing mine-field, to take the All Aged Stakes last Saturday was superb; winning on a mount few, if any others, could. And while conditions favoured She’s Extreme in the Champagne Stakes, Berry’s stopwatch timing between the 600 metres to the 400 metres contributed to end the winning streak of Fireburn. No doubt the “C” word is thrown around with abandon but watching JMac currently is a highlight, challenging the view whether he compares with the best ever. Tommy Smith, always the reference for such matter, chose jockeys, including champions like George Moore, on the grounds: “Put them on five favourites and get five good rides, not necessarily winners, and you are cooking with the right recipe”. JMac has eight rides on mostly favourites at Randwick on Saturday, giving a Moore-like lift to a benchmark meeting, strong on numbers but suspect class. Nash Rawiller (far left, blue silks) muscles Kementari down the rails in the tightest of gaps. Credit: Getty Moore, too, never followed the flock and had a knack with inside runs. Alas, Rawiller rode the fine line between careless and courageous to get the Championships double. But it necessitated suspensions and fines, which received mixed reaction from critics, particularly Kementari in last Saturday’s Hall Mark Stakes. In decades hence his saddle pluck will be remembered, forcing a fence-scraping run shunned by most navigators. Fortunately, he had the benefit of the pliable aluminium rail and not the former wooden variety, otherwise the gelding, at best, would have ended with a flank loaded with splinters and the possibility of being impaled. Following Kementari, Rawiller’s suspensions end on May 13. Maybe I’m rusted into old-time punter philosophy: going wherever human and horse can go by any means justifiable by circumstances within the rules. Nash Rawiller and Kementari go on to win the Hall Mark Stakes at Randwick last week. Credit: Getty Still, most trainers felt the Rawiller tactic on Kementari was “dangerous” and should have carried a more serious change than careless riding. “How close was it to a fall?” was decreed. Yes, the injured party, minor placegetter Big Parade, was left staggering in Kementari’s wake. Darren Beadman, without peer on horseback, found in favour of Rawiller with “anticipation” being his guideline. The negative of Rawiller’s Queen Elizabeth was breaching the contentious whip rule, for which he was originally suspended and fined $40,000, but it was chopped back to $30,000 on appeal. When will stewards relegate for a savage breach of the whip rule? Race riding is one of the most precarious sports or occupations with a balance between safety and instinct. Generally, modern-day jockeys play it right, unlike the Golden Slippers of old, once saddle mayhem. Remember the 1996 chapter featuring Greg Hall on Merlene? Hall ended with a two-month suspension and $50,000 fine for what was decreed by chief stipe Ray Murrihy as “blatant carelessness”. Hall was no sheep and proclaimed a higher order. “Jet pilots don’t have rear-vision mirrors,” he argued. News, results and expert analysis from the weekend of sport sent every Monday. Sign up for our Sport newsletter .\n",
      "========\n",
      "98.18036651611328\n",
      "Watch CBS News Man surprises strangers with random acts of kindness In today’s “Uplift at 8,” a former prankster changes things up by surprising strangers with random acts of kindness, from food to flowers. Copyright ©2022 CBS Interactive Inc. All rights reserved. \n",
      "========\n"
     ]
    }
   ],
   "source": [
    "pr = np.array(pr)\n",
    "for i in np.where((pr>75) & (pr<100))[0]:\n",
    "    print(pr[i])\n",
    "    print(dr[int(i)]['dedup_text'])\n",
    "    print('========')"
   ]
  },
  {
   "cell_type": "code",
   "execution_count": 166,
   "id": "23cbd90b-7768-41e2-91b0-cf809a9d3ad6",
   "metadata": {},
   "outputs": [
    {
     "data": {
      "image/png": "[encoded data removed]",
      "text/plain": [
       "<Figure size 800x600 with 1 Axes>"
      ]
     },
     "metadata": {},
     "output_type": "display_data"
    }
   ],
   "source": [
    "filtered_per = [value for value in pr if value > 75]\n",
    "\n",
    "plt.figure(figsize=(8, 6))\n",
    "plt.hist(np.log(np.array(filtered_per)), bins=10, edgecolor='black')  # Adjust 'bins' as needed\n",
    "plt.xlabel('Perplexity')\n",
    "plt.ylabel('Frequency')\n",
    "plt.title('Histogram of Perplexities')\n",
    "plt.grid(True)\n",
    "plt.show()"
   ]
  },
  {
   "cell_type": "code",
   "execution_count": 106,
   "id": "078d8c38-e741-4f9e-8604-cfa147efe3e3",
   "metadata": {},
   "outputs": [
    {
     "data": {
      "text/plain": [
       "'few_words'"
      ]
     },
     "execution_count": 106,
     "metadata": {},
     "output_type": "execute_result"
    }
   ],
   "source": [
    "ds[189]['gopher_verdict']"
   ]
  },
  {
   "cell_type": "code",
   "execution_count": 92,
   "id": "b273574b-47cb-4a31-902f-247424c30d6c",
   "metadata": {},
   "outputs": [
    {
     "data": {
      "text/plain": [
       "tensor(107.8683, device='mps:0')"
      ]
     },
     "execution_count": 92,
     "metadata": {},
     "output_type": "execute_result"
    }
   ],
   "source": [
    "ppl"
   ]
  },
  {
   "cell_type": "code",
   "execution_count": null,
   "id": "8c481b81-4181-4ce1-a475-cee4fc5f3bce",
   "metadata": {},
   "outputs": [],
   "source": []
  },
  {
   "cell_type": "code",
   "execution_count": 102,
   "id": "0a315eb1-aca1-424d-b254-7efbd975048d",
   "metadata": {},
   "outputs": [
    {
     "data": {
      "application/vnd.jupyter.widget-view+json": {
       "model_id": "b383be2698684e2783ef2e5d3c3d3bca",
       "version_major": 2,
       "version_minor": 0
      },
      "text/plain": [
       "  0%|          | 0/1 [00:00<?, ?it/s]"
      ]
     },
     "metadata": {},
     "output_type": "display_data"
    }
   ],
   "source": [
    "import evaluate\n",
    "perplexity = evaluate.load(\"perplexity\", module_type=\"metric\")\n",
    "\n",
    "results = perplexity.compute(model_id=\"EleutherAI/pythia-160m-deduped\",\n",
    "                             add_start_token=False,\n",
    "                             predictions=ds[:3]['text'])"
   ]
  }
 ],
 "metadata": {
  "kernelspec": {
   "display_name": "Python (trans)",
   "language": "python",
   "name": "trans"
  },
  "language_info": {
   "codemirror_mode": {
    "name": "ipython",
    "version": 3
   },
   "file_extension": ".py",
   "mimetype": "text/x-python",
   "name": "python",
   "nbconvert_exporter": "python",
   "pygments_lexer": "ipython3",
   "version": "3.9.21"
  }
 },
 "nbformat": 4,
 "nbformat_minor": 5
}
