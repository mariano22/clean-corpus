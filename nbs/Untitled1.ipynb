{
 "cells": [
  {
   "cell_type": "code",
   "execution_count": 2,
   "id": "831411af-63de-44df-a234-5b92309c5135",
   "metadata": {},
   "outputs": [],
   "source": [
    "from datasets import load_dataset\n",
    "from tqdm import tqdm\n",
    "from collections import defaultdict"
   ]
  },
  {
   "cell_type": "code",
   "execution_count": null,
   "id": "29df1a32-d134-40ce-a85c-e1701f63f2f8",
   "metadata": {},
   "outputs": [],
   "source": []
  },
  {
   "cell_type": "code",
   "execution_count": 65,
   "id": "f3f06476-b970-4b87-b16e-b3c61f583866",
   "metadata": {},
   "outputs": [],
   "source": [
    "model.save_model(\"model_filename_3gram.bin\")\n"
   ]
  },
  {
   "cell_type": "code",
   "execution_count": 138,
   "id": "33147fdd-2b56-4eeb-96ea-a2f295722229",
   "metadata": {},
   "outputs": [],
   "source": [
    "imdb = load_dataset(\"imdb\")"
   ]
  },
  {
   "cell_type": "code",
   "execution_count": 3,
   "id": "58ff7f7d-b85c-4cf3-b16c-17e3d98bcbdf",
   "metadata": {},
   "outputs": [],
   "source": [
    "import unicodedata\n",
    "import re\n",
    "\n",
    "def normalize_for_hashing(text):\n",
    "    text = text.replace('<SEP>', ' ')\n",
    "    text = text.replace('<PAD>', '')\n",
    "    text = unicodedata.normalize('NFKD', text)\n",
    "    text = text.encode('ASCII', 'ignore').decode('utf-8')\n",
    "    text = re.sub(r'\\s+', ' ', text)\n",
    "    text = re.sub(r'[^a-zA-Z0-9\\s]', '', text)\n",
    "    text = text.strip()\n",
    "    text = text.lower()\n",
    "    return text"
   ]
  },
  {
   "cell_type": "code",
   "execution_count": 232,
   "id": "eb2e1f34-df77-4fd1-a0d5-cc6f2496ed83",
   "metadata": {},
   "outputs": [],
   "source": [
    "vs = imdb['test']"
   ]
  },
  {
   "cell_type": "code",
   "execution_count": 245,
   "id": "1d5179a3-0f38-4f57-b5f0-27fadc0fd662",
   "metadata": {},
   "outputs": [],
   "source": [
    "ds = imdb['train']"
   ]
  },
  {
   "cell_type": "code",
   "execution_count": 225,
   "id": "35f2f2df-3f27-4ece-be98-3154b17eb5e0",
   "metadata": {},
   "outputs": [],
   "source": [
    "def transform(examples):\n",
    "    label_prefix = '__label__'\n",
    "    i2l = ['neg', 'pos']\n",
    "    examples['new_label'] = [ label_prefix + i2l[l] for l in examples['label'] ]\n",
    "    examples['text'] = [normalize_for_hashing(txt) for txt in examples['text']]\n",
    "    return examples\n",
    "\n"
   ]
  },
  {
   "cell_type": "code",
   "execution_count": 226,
   "id": "5fa357d1-ebb4-4930-b676-3cc840ddedf2",
   "metadata": {},
   "outputs": [
    {
     "data": {
      "application/vnd.jupyter.widget-view+json": {
       "model_id": "9e3a65064a034d29a1826378b2ff1826",
       "version_major": 2,
       "version_minor": 0
      },
      "text/plain": [
       "Map (num_proc=4):   0%|          | 0/25000 [00:00<?, ? examples/s]"
      ]
     },
     "metadata": {},
     "output_type": "display_data"
    }
   ],
   "source": [
    "ds=ds.map(transform,batched=True,num_proc=4)"
   ]
  },
  {
   "cell_type": "code",
   "execution_count": 235,
   "id": "5f248945-abe4-427d-8fcc-4d8bc75a7905",
   "metadata": {},
   "outputs": [
    {
     "data": {
      "application/vnd.jupyter.widget-view+json": {
       "model_id": "25870ca31ff34c5f92aef8b1b6d7a197",
       "version_major": 2,
       "version_minor": 0
      },
      "text/plain": [
       "Map (num_proc=4):   0%|          | 0/25000 [00:00<?, ? examples/s]"
      ]
     },
     "metadata": {},
     "output_type": "display_data"
    }
   ],
   "source": [
    "vs=vs.map(transform,batched=True,num_proc=4)"
   ]
  },
  {
   "cell_type": "code",
   "execution_count": 236,
   "id": "590a2a85-f044-4ccc-bfd1-883dec9748a3",
   "metadata": {},
   "outputs": [
    {
     "name": "stderr",
     "output_type": "stream",
     "text": [
      "100%|██████████████████████████████████████████████████████████████████████████████████████████████████████████████████████████████████████████████████████████████████████████████████████████████████| 25000/25000 [00:00<00:00, 79549.67it/s]\n"
     ]
    }
   ],
   "source": [
    "with open('imbd_test.txt', 'w') as f:\n",
    "    for x in tqdm(vs):\n",
    "        print(x['new_label'] + ' ' + x['text'], file=f)\n",
    "with open('imbd_train.txt', 'w') as f:\n",
    "    for x in tqdm(ds):\n",
    "        print(x['new_label'] + ' ' + x['text'], file=f)"
   ]
  },
  {
   "cell_type": "code",
   "execution_count": 230,
   "id": "0214dc4f-e684-4d2d-9068-3cf8a58fc02f",
   "metadata": {},
   "outputs": [
    {
     "name": "stderr",
     "output_type": "stream",
     "text": [
      "100%|██████████████████████████████████████████████████████████████████████████████████████████████████████████████████████████████████████████████████████████████████████████████████████████████████| 25000/25000 [00:00<00:00, 81265.12it/s]\n"
     ]
    }
   ],
   "source": [
    "\n",
    "    "
   ]
  },
  {
   "cell_type": "code",
   "execution_count": 246,
   "id": "5f99161c-9534-47fb-a0ce-ea95a7acd555",
   "metadata": {},
   "outputs": [
    {
     "data": {
      "text/plain": [
       "'I rented I AM CURIOUS-YELLOW from my video store because of all the controversy that surrounded it when it was first released in 1967. I also heard that at first it was seized by U.S. customs if it ever tried to enter this country, therefore being a fan of films considered \"controversial\" I really had to see this for myself.<br /><br />The plot is centered around a young Swedish drama student named Lena who wants to learn everything she can about life. In particular she wants to focus her attentions to making some sort of documentary on what the average Swede thought about certain political issues such as the Vietnam War and race issues in the United States. In between asking politicians and ordinary denizens of Stockholm about their opinions on politics, she has sex with her drama teacher, classmates, and married men.<br /><br />What kills me about I AM CURIOUS-YELLOW is that 40 years ago, this was considered pornographic. Really, the sex and nudity scenes are few and far between, even then it\\'s not shot like some cheaply made porno. While my countrymen mind find it shocking, in reality sex and nudity are a major staple in Swedish cinema. Even Ingmar Bergman, arguably their answer to good old boy John Ford, had sex scenes in his films.<br /><br />I do commend the filmmakers for the fact that any sex shown in the film is shown for artistic purposes rather than just to shock people and make money to be shown in pornographic theaters in America. I AM CURIOUS-YELLOW is a good film for anyone wanting to study the meat and potatoes (no pun intended) of Swedish cinema. But really, this film doesn\\'t have much of a plot.'"
      ]
     },
     "execution_count": 246,
     "metadata": {},
     "output_type": "execute_result"
    }
   ],
   "source": [
    "ds[0]['text']"
   ]
  },
  {
   "cell_type": "code",
   "execution_count": 228,
   "id": "b8152638-ef6f-4d77-a466-2f627de4ada8",
   "metadata": {},
   "outputs": [
    {
     "data": {
      "text/plain": [
       "'__label__neg'"
      ]
     },
     "execution_count": 228,
     "metadata": {},
     "output_type": "execute_result"
    }
   ],
   "source": [
    "ds[0]['new_label']"
   ]
  },
  {
   "cell_type": "code",
   "execution_count": 239,
   "id": "342e2c83-d764-4f0a-a9e1-947b129cccb4",
   "metadata": {},
   "outputs": [
    {
     "name": "stderr",
     "output_type": "stream",
     "text": [
      "Read 5M words\n",
      "Number of words:  120629\n",
      "Number of labels: 2\n",
      "Progress: 100.0% words/sec/thread: 6325646 lr:  0.000000 avg.loss:  0.102371 ETA:   0h 0m 0s\n"
     ]
    }
   ],
   "source": [
    "import fasttext\n",
    "\n",
    "model = fasttext.train_supervised('imbd_train.txt',epoch=50)"
   ]
  },
  {
   "cell_type": "code",
   "execution_count": 60,
   "id": "f33cc366-6b95-4114-b060-36b4fe5e380d",
   "metadata": {},
   "outputs": [
    {
     "name": "stderr",
     "output_type": "stream",
     "text": [
      "Read 108M words\n",
      "Number of words:  3059267\n",
      "Number of labels: 2\n",
      "Progress: 100.0% words/sec/thread: 1432808 lr:  0.000000 avg.loss:  0.080174 ETA:   0h 0m 0s\n"
     ]
    }
   ],
   "source": [
    "import fasttext\n",
    "\n",
    "model = fasttext.train_supervised('quality_train.txt',epoch=5,wordNgrams=3)"
   ]
  },
  {
   "cell_type": "code",
   "execution_count": 240,
   "id": "3e2fc65c-3957-4d9e-a350-5f16e83bac0e",
   "metadata": {},
   "outputs": [
    {
     "data": {
      "text/plain": [
       "(('__label__neg',), array([1.00000942]))"
      ]
     },
     "execution_count": 240,
     "metadata": {},
     "output_type": "execute_result"
    }
   ],
   "source": [
    "model.predict(normalize_for_hashing(vs[0]['text']))"
   ]
  },
  {
   "cell_type": "code",
   "execution_count": 241,
   "id": "6633f61b-d19e-4902-a6a2-19631d15f523",
   "metadata": {},
   "outputs": [
    {
     "data": {
      "text/plain": [
       "'i love scifi and am willing to put up with a lot scifi moviestv are usually underfunded underappreciated and misunderstood i tried to like this i really did but it is to good tv scifi as babylon 5 is to star trek the original silly prosthetics cheap cardboard sets stilted dialogues cg that doesnt match the background and painfully onedimensional characters cannot be overcome with a scifi setting im sure there are those of you out there who think babylon 5 is good scifi tv its not its cliched and uninspiring while us viewers might like emotion and character development scifi is a genre that does not take itself seriously cf star trek it may treat important issues yet not as a serious philosophy its really difficult to care about the characters here as they are not simply foolish just missing a spark of life their actions and reactions are wooden and predictable often painful to watch the makers of earth know its rubbish as they have to always say gene roddenberrys earth otherwise people would not continue watching roddenberrys ashes must be turning in their orbit as this dull cheap poorly edited watching it without advert breaks really brings this home trudging trabant of a show lumbers into space spoiler so kill off a main character and then bring him back as another actor jeeez dallas all over again'"
      ]
     },
     "execution_count": 241,
     "metadata": {},
     "output_type": "execute_result"
    }
   ],
   "source": [
    "vs[0]['text']"
   ]
  },
  {
   "cell_type": "code",
   "execution_count": 62,
   "id": "97ad372a-ee26-444c-a5e9-4aac67783649",
   "metadata": {},
   "outputs": [],
   "source": [
    "def print_results(N, p, r):\n",
    "    print(\"N\\t\" + str(N))\n",
    "    print(\"P@{}\\t{:.3f}\".format(1, p))\n",
    "    print(\"R@{}\\t{:.3f}\".format(1, r))"
   ]
  },
  {
   "cell_type": "code",
   "execution_count": null,
   "id": "06fc9a71-9c27-4547-adc1-8dae41f4914d",
   "metadata": {},
   "outputs": [],
   "source": [
    "print_results(*model.test('imbd_test.txt'))"
   ]
  },
  {
   "cell_type": "code",
   "execution_count": 63,
   "id": "167cc9d4-0eb6-4d0c-8a30-9c3007ebb0f8",
   "metadata": {},
   "outputs": [
    {
     "name": "stdout",
     "output_type": "stream",
     "text": [
      "N\t40000\n",
      "P@1\t0.982\n",
      "R@1\t0.982\n"
     ]
    }
   ],
   "source": [
    "print_results(*model.test('quality_test.txt'))"
   ]
  },
  {
   "cell_type": "code",
   "execution_count": null,
   "id": "30b8c553-3dce-437d-a188-51295fe748bd",
   "metadata": {},
   "outputs": [],
   "source": []
  },
  {
   "cell_type": "code",
   "execution_count": null,
   "id": "4888a4e9-d762-4510-b5da-006c14662f3c",
   "metadata": {},
   "outputs": [],
   "source": []
  },
  {
   "cell_type": "code",
   "execution_count": null,
   "id": "48d31d22-18e0-4006-be27-bfe0a280d485",
   "metadata": {},
   "outputs": [],
   "source": []
  },
  {
   "cell_type": "code",
   "execution_count": null,
   "id": "7ccb8b4a-f416-4afd-969a-93108cd5b251",
   "metadata": {},
   "outputs": [],
   "source": []
  },
  {
   "cell_type": "code",
   "execution_count": 244,
   "id": "98b7b69d-23d6-478a-8b23-65a08482ec96",
   "metadata": {},
   "outputs": [
    {
     "data": {
      "application/vnd.jupyter.widget-view+json": {
       "model_id": "e4172cbba1864693b3feafa4300a196c",
       "version_major": 2,
       "version_minor": 0
      },
      "text/plain": [
       "tokenizer_config.json:   0%|          | 0.00/48.0 [00:00<?, ?B/s]"
      ]
     },
     "metadata": {},
     "output_type": "display_data"
    },
    {
     "data": {
      "application/vnd.jupyter.widget-view+json": {
       "model_id": "eb2705ff6d0b4a909819aab2c3b14480",
       "version_major": 2,
       "version_minor": 0
      },
      "text/plain": [
       "config.json:   0%|          | 0.00/483 [00:00<?, ?B/s]"
      ]
     },
     "metadata": {},
     "output_type": "display_data"
    },
    {
     "data": {
      "application/vnd.jupyter.widget-view+json": {
       "model_id": "b18c7fe39b7c4156a47edc9fd6acfcdb",
       "version_major": 2,
       "version_minor": 0
      },
      "text/plain": [
       "vocab.txt:   0%|          | 0.00/232k [00:00<?, ?B/s]"
      ]
     },
     "metadata": {},
     "output_type": "display_data"
    },
    {
     "data": {
      "application/vnd.jupyter.widget-view+json": {
       "model_id": "a08ca257bcc64bf9b482d25f035c67df",
       "version_major": 2,
       "version_minor": 0
      },
      "text/plain": [
       "tokenizer.json:   0%|          | 0.00/466k [00:00<?, ?B/s]"
      ]
     },
     "metadata": {},
     "output_type": "display_data"
    }
   ],
   "source": [
    "tokenizer = AutoTokenizer.from_pretrained(\"distilbert/distilbert-base-uncased\")"
   ]
  },
  {
   "cell_type": "code",
   "execution_count": 247,
   "id": "0140ed82-3d9f-446b-9932-9a085d135c7d",
   "metadata": {},
   "outputs": [
    {
     "data": {
      "application/vnd.jupyter.widget-view+json": {
       "model_id": "b4100ea5d06e450c99cce0e691d95310",
       "version_major": 2,
       "version_minor": 0
      },
      "text/plain": [
       "Map:   0%|          | 0/25000 [00:00<?, ? examples/s]"
      ]
     },
     "metadata": {},
     "output_type": "display_data"
    },
    {
     "data": {
      "application/vnd.jupyter.widget-view+json": {
       "model_id": "d3c8580b65164723b99468fcad1c7f73",
       "version_major": 2,
       "version_minor": 0
      },
      "text/plain": [
       "Map:   0%|          | 0/25000 [00:00<?, ? examples/s]"
      ]
     },
     "metadata": {},
     "output_type": "display_data"
    },
    {
     "data": {
      "application/vnd.jupyter.widget-view+json": {
       "model_id": "db42d1004beb4382a48ee2f27922316f",
       "version_major": 2,
       "version_minor": 0
      },
      "text/plain": [
       "Map:   0%|          | 0/50000 [00:00<?, ? examples/s]"
      ]
     },
     "metadata": {},
     "output_type": "display_data"
    }
   ],
   "source": [
    "def preprocess_function(examples):\n",
    "    return tokenizer(examples[\"text\"], truncation=True)\n",
    "tokenized_imdb = imdb.map(preprocess_function, batched=True)\n"
   ]
  },
  {
   "cell_type": "code",
   "execution_count": 254,
   "id": "f4c3a9f5-e9c9-4f0f-926a-c6e648f4b972",
   "metadata": {},
   "outputs": [],
   "source": [
    "from transformers import DataCollatorWithPadding\n",
    "data_collator = DataCollatorWithPadding(tokenizer=tokenizer)"
   ]
  },
  {
   "cell_type": "code",
   "execution_count": 248,
   "id": "dd8a4221-0ac8-4831-9570-4afba876e5af",
   "metadata": {},
   "outputs": [
    {
     "data": {
      "application/vnd.jupyter.widget-view+json": {
       "model_id": "46b58da8c41b46e18c9f1a76a9de5aa8",
       "version_major": 2,
       "version_minor": 0
      },
      "text/plain": [
       "Downloading builder script:   0%|          | 0.00/4.20k [00:00<?, ?B/s]"
      ]
     },
     "metadata": {},
     "output_type": "display_data"
    }
   ],
   "source": [
    "import evaluate\n",
    "\n",
    "accuracy = evaluate.load(\"accuracy\")"
   ]
  },
  {
   "cell_type": "code",
   "execution_count": 249,
   "id": "f1f3326f-f5fc-4240-8594-2de389347462",
   "metadata": {},
   "outputs": [],
   "source": [
    "import numpy as np\n",
    "\n",
    "\n",
    "def compute_metrics(eval_pred):\n",
    "    predictions, labels = eval_pred\n",
    "    predictions = np.argmax(predictions, axis=1)\n",
    "    return accuracy.compute(predictions=predictions, references=labels)"
   ]
  },
  {
   "cell_type": "code",
   "execution_count": 255,
   "id": "d83e183b-740d-452e-81f0-dcc10952f158",
   "metadata": {},
   "outputs": [],
   "source": [
    "id2label = {0: \"NEGATIVE\", 1: \"POSITIVE\"}\n",
    "label2id = {\"NEGATIVE\": 0, \"POSITIVE\": 1}"
   ]
  },
  {
   "cell_type": "code",
   "execution_count": null,
   "id": "5191b2a7-b25c-4005-b711-8447aef94f85",
   "metadata": {},
   "outputs": [],
   "source": [
    "from transformers import AutoModelForSequenceClassification, TrainingArguments, Trainer\n",
    "\n",
    "model = AutoModelForSequenceClassification.from_pretrained(\n",
    "    \"distilbert/distilbert-base-uncased\", num_labels=2, id2label=id2label, label2id=label2id\n",
    ")"
   ]
  },
  {
   "cell_type": "code",
   "execution_count": 140,
   "id": "945514ce-7fbe-4de6-8ff0-1f30e3181e26",
   "metadata": {},
   "outputs": [
    {
     "ename": "NameError",
     "evalue": "name 'TrainingArguments' is not defined",
     "output_type": "error",
     "traceback": [
      "\u001b[0;31m---------------------------------------------------------------------------\u001b[0m",
      "\u001b[0;31mNameError\u001b[0m                                 Traceback (most recent call last)",
      "Cell \u001b[0;32mIn[140], line 1\u001b[0m\n\u001b[0;32m----> 1\u001b[0m training_args \u001b[38;5;241m=\u001b[39m \u001b[43mTrainingArguments\u001b[49m(\n\u001b[1;32m      2\u001b[0m     output_dir\u001b[38;5;241m=\u001b[39m\u001b[38;5;124m\"\u001b[39m\u001b[38;5;124mmy_awesome_model\u001b[39m\u001b[38;5;124m\"\u001b[39m,\n\u001b[1;32m      3\u001b[0m     learning_rate\u001b[38;5;241m=\u001b[39m\u001b[38;5;241m2e-5\u001b[39m,\n\u001b[1;32m      4\u001b[0m     per_device_train_batch_size\u001b[38;5;241m=\u001b[39m\u001b[38;5;241m8\u001b[39m,  \u001b[38;5;66;03m# Lower batch size\u001b[39;00m\n\u001b[1;32m      5\u001b[0m     per_device_eval_batch_size\u001b[38;5;241m=\u001b[39m\u001b[38;5;241m16\u001b[39m,\n\u001b[1;32m      6\u001b[0m     gradient_accumulation_steps\u001b[38;5;241m=\u001b[39m\u001b[38;5;241m4\u001b[39m,  \u001b[38;5;66;03m# Simulate a larger batch size\u001b[39;00m\n\u001b[1;32m      7\u001b[0m     num_train_epochs\u001b[38;5;241m=\u001b[39m\u001b[38;5;241m2\u001b[39m,\n\u001b[1;32m      8\u001b[0m     weight_decay\u001b[38;5;241m=\u001b[39m\u001b[38;5;241m0.01\u001b[39m,\n\u001b[1;32m      9\u001b[0m     eval_strategy\u001b[38;5;241m=\u001b[39m\u001b[38;5;124m\"\u001b[39m\u001b[38;5;124mepoch\u001b[39m\u001b[38;5;124m\"\u001b[39m,\n\u001b[1;32m     10\u001b[0m     save_strategy\u001b[38;5;241m=\u001b[39m\u001b[38;5;124m\"\u001b[39m\u001b[38;5;124mepoch\u001b[39m\u001b[38;5;124m\"\u001b[39m,\n\u001b[1;32m     11\u001b[0m     load_best_model_at_end\u001b[38;5;241m=\u001b[39m\u001b[38;5;28;01mTrue\u001b[39;00m,\n\u001b[1;32m     12\u001b[0m     report_to\u001b[38;5;241m=\u001b[39m[]\n\u001b[1;32m     13\u001b[0m )\n\u001b[1;32m     15\u001b[0m trainer \u001b[38;5;241m=\u001b[39m Trainer(\n\u001b[1;32m     16\u001b[0m     model\u001b[38;5;241m=\u001b[39mmodel,\n\u001b[1;32m     17\u001b[0m     args\u001b[38;5;241m=\u001b[39mtraining_args,\n\u001b[0;32m   (...)\u001b[0m\n\u001b[1;32m     21\u001b[0m     compute_metrics\u001b[38;5;241m=\u001b[39mcompute_metrics,\n\u001b[1;32m     22\u001b[0m )\n\u001b[1;32m     24\u001b[0m trainer\u001b[38;5;241m.\u001b[39mtrain()\n",
      "\u001b[0;31mNameError\u001b[0m: name 'TrainingArguments' is not defined"
     ]
    }
   ],
   "source": [
    "training_args = TrainingArguments(\n",
    "    output_dir=\"my_awesome_model\",\n",
    "    learning_rate=2e-5,\n",
    "    per_device_train_batch_size=8,  # Lower batch size\n",
    "    per_device_eval_batch_size=16,\n",
    "    gradient_accumulation_steps=4,  # Simulate a larger batch size\n",
    "    num_train_epochs=2,\n",
    "    weight_decay=0.01,\n",
    "    eval_strategy=\"epoch\",\n",
    "    save_strategy=\"epoch\",\n",
    "    load_best_model_at_end=True,\n",
    "    report_to=[]\n",
    ")\n",
    "\n",
    "trainer = Trainer(\n",
    "    model=model,\n",
    "    args=training_args,\n",
    "    train_dataset=tokenized_imdb[\"train\"],\n",
    "    eval_dataset=tokenized_imdb[\"test\"],\n",
    "    data_collator=data_collator,\n",
    "    compute_metrics=compute_metrics,\n",
    ")\n",
    "\n",
    "trainer.train()"
   ]
  },
  {
   "cell_type": "code",
   "execution_count": null,
   "id": "c6422b9e-df36-48c2-a9e7-8fac4783f65e",
   "metadata": {},
   "outputs": [],
   "source": []
  },
  {
   "cell_type": "code",
   "execution_count": null,
   "id": "2b948984-a67a-4c47-9bee-8eebe31ea4af",
   "metadata": {},
   "outputs": [],
   "source": []
  },
  {
   "cell_type": "code",
   "execution_count": null,
   "id": "1f332634-faf1-4d74-b412-cc9fbe3509e7",
   "metadata": {},
   "outputs": [],
   "source": []
  },
  {
   "cell_type": "code",
   "execution_count": null,
   "id": "bff01812-8bf6-4f41-be39-352a0132c1f4",
   "metadata": {},
   "outputs": [],
   "source": []
  },
  {
   "cell_type": "code",
   "execution_count": 3,
   "id": "1bd74bac-5c35-4f02-832d-c886515607f1",
   "metadata": {},
   "outputs": [
    {
     "data": {
      "text/plain": [
       "IterableDataset({\n",
       "    features: ['text'],\n",
       "    num_shards: 1555\n",
       "})"
      ]
     },
     "execution_count": 3,
     "metadata": {},
     "output_type": "execute_result"
    }
   ],
   "source": []
  },
  {
   "cell_type": "code",
   "execution_count": 3,
   "id": "8b4b5415-554c-4063-8ee2-adfe9138be52",
   "metadata": {},
   "outputs": [
    {
     "data": {
      "application/vnd.jupyter.widget-view+json": {
       "model_id": "6a0c274340404d759dd682654de2a1f7",
       "version_major": 2,
       "version_minor": 0
      },
      "text/plain": [
       "Resolving data files:   0%|          | 0/30 [00:00<?, ?it/s]"
      ]
     },
     "metadata": {},
     "output_type": "display_data"
    }
   ],
   "source": [
    "\n"
   ]
  },
  {
   "cell_type": "code",
   "execution_count": 3,
   "id": "3583eeb0-d382-4a58-af7c-354abfa2fec0",
   "metadata": {},
   "outputs": [
    {
     "name": "stderr",
     "output_type": "stream",
     "text": [
      "Processing:   0%|                                                                                                                                                                                                     | 0/10000 [00:00<?, ?it/s]"
     ]
    },
    {
     "ename": "NameError",
     "evalue": "name 'the_pile' is not defined",
     "output_type": "error",
     "traceback": [
      "\u001b[0;31m---------------------------------------------------------------------------\u001b[0m",
      "\u001b[0;31mNameError\u001b[0m                                 Traceback (most recent call last)",
      "Cell \u001b[0;32mIn[3], line 3\u001b[0m\n\u001b[1;32m      1\u001b[0m xs \u001b[38;5;241m=\u001b[39m []\n\u001b[1;32m      2\u001b[0m progress_bar \u001b[38;5;241m=\u001b[39m tqdm(total\u001b[38;5;241m=\u001b[39m\u001b[38;5;241m10000\u001b[39m, desc\u001b[38;5;241m=\u001b[39m\u001b[38;5;124m\"\u001b[39m\u001b[38;5;124mProcessing\u001b[39m\u001b[38;5;124m\"\u001b[39m)\n\u001b[0;32m----> 3\u001b[0m \u001b[38;5;28;01mfor\u001b[39;00m x \u001b[38;5;129;01min\u001b[39;00m \u001b[43mthe_pile\u001b[49m:\n\u001b[1;32m      4\u001b[0m     \u001b[38;5;28;01mif\u001b[39;00m x[\u001b[38;5;124m'\u001b[39m\u001b[38;5;124mmeta\u001b[39m\u001b[38;5;124m'\u001b[39m][\u001b[38;5;124m'\u001b[39m\u001b[38;5;124mpile_set_name\u001b[39m\u001b[38;5;124m'\u001b[39m] \u001b[38;5;129;01min\u001b[39;00m clean_text:\n\u001b[1;32m      5\u001b[0m         xs\u001b[38;5;241m.\u001b[39mappend(\u001b[38;5;28mlen\u001b[39m(x[\u001b[38;5;124m'\u001b[39m\u001b[38;5;124mtext\u001b[39m\u001b[38;5;124m'\u001b[39m]))\n",
      "\u001b[0;31mNameError\u001b[0m: name 'the_pile' is not defined"
     ]
    }
   ],
   "source": [
    "xs = []\n",
    "progress_bar = tqdm(total=10000, desc=\"Processing\")\n",
    "for x in the_pile:\n",
    "    if x['meta']['pile_set_name'] in clean_text:\n",
    "        xs.append(len(x['text']))\n",
    "        #print(len(xs))\n",
    "        progress_bar.update(1)\n",
    "        if len(xs)>10000:\n",
    "            progress_bar.close()\n",
    "            break"
   ]
  },
  {
   "cell_type": "code",
   "execution_count": 342,
   "id": "150f3aeb-e74c-4bf8-b049-d64c9b667241",
   "metadata": {},
   "outputs": [
    {
     "data": {
      "text/plain": [
       "np.float64(4296.908109189081)"
      ]
     },
     "execution_count": 342,
     "metadata": {},
     "output_type": "execute_result"
    }
   ],
   "source": [
    "np.array(xs).mean()"
   ]
  },
  {
   "cell_type": "code",
   "execution_count": 351,
   "id": "396ce490-a315-4c1c-9b92-1605dcec61dc",
   "metadata": {},
   "outputs": [
    {
     "name": "stderr",
     "output_type": "stream",
     "text": [
      "Processing: 10001it [00:05, 1770.07it/s]                                                                                                                                                                                                        \n"
     ]
    }
   ],
   "source": [
    "xs = []\n",
    "progress_bar = tqdm(total=10000, desc=\"Processing\")\n",
    "for x in noisy:\n",
    "    xs.append(len(x['text']))\n",
    "    progress_bar.update(1)\n",
    "    if len(xs)>10000:\n",
    "        progress_bar.close()\n",
    "        break"
   ]
  },
  {
   "cell_type": "code",
   "execution_count": 352,
   "id": "e59256bf-ec36-4538-9086-d991da53ac12",
   "metadata": {},
   "outputs": [
    {
     "data": {
      "text/plain": [
       "np.float64(4198.1552844715525)"
      ]
     },
     "execution_count": 352,
     "metadata": {},
     "output_type": "execute_result"
    }
   ],
   "source": [
    "np.array(xs).mean()"
   ]
  },
  {
   "cell_type": "code",
   "execution_count": 4,
   "id": "36348d01-03d7-47a2-8aa3-2e1a3929ddfb",
   "metadata": {},
   "outputs": [],
   "source": []
  },
  {
   "cell_type": "code",
   "execution_count": null,
   "id": "d0ec70cb-00cb-4e55-892c-3e2962f0ce59",
   "metadata": {},
   "outputs": [],
   "source": [
    "with open('quality_train.txt', 'w') as f:\n",
    "    progress_bar = tqdm(total=N_DS, desc=\"Processing\")\n",
    "    for x in the_pile:\n",
    "        if :\n",
    "            text = normalize_for_hashing(x['text'])\n",
    "            print('__label__pos'+' '+text, file=f)\n",
    "\n",
    "    progress_bar = tqdm(total=10000, desc=\"Processing\")\n",
    "    for x in noisy:\n",
    "        progress_bar.update(1)\n",
    "        text = normalize_for_hashing(x['text'])\n",
    "        print('__label__neg'+' '+text, file=f)\n",
    "    \n",
    "        "
   ]
  },
  {
   "cell_type": "code",
   "execution_count": 68,
   "id": "f3e1d1c3-c826-4d4e-9178-21c0bf265cc4",
   "metadata": {},
   "outputs": [
    {
     "data": {
      "text/plain": [
       "'\\x01'"
      ]
     },
     "execution_count": 68,
     "metadata": {},
     "output_type": "execute_result"
    }
   ],
   "source": [
    "\"\\1\""
   ]
  },
  {
   "cell_type": "code",
   "execution_count": 70,
   "id": "24c1ba04-6c42-439b-b9b5-d1e8bfe9182f",
   "metadata": {},
   "outputs": [],
   "source": [
    "import string\n",
    "punctuation_pat = re.compile(f\"([{re.escape(string.punctuation)}])\")\n",
    "whitespace_pat = re.compile(r\"\\s+\")\n",
    "\n",
    "\n",
    "def preprocess_for_fasttext(text):\n",
    "    \"\"\"Preprocess text for fastText classification.\"\"\"\n",
    "    text = text.replace('\\\\n', '\\n')\n",
    "    text = text.lower()\n",
    "    text = punctuation_pat.sub(r\" \\1 \", text)\n",
    "    text = whitespace_pat.sub(\" \", text)\n",
    "    text = text.strip()\n",
    "    return text"
   ]
  },
  {
   "cell_type": "code",
   "execution_count": 76,
   "id": "ec007f00-ac24-448f-a306-cdd4eff917ae",
   "metadata": {},
   "outputs": [
    {
     "name": "stdout",
     "output_type": "stream",
     "text": [
      "floorplan finder - campkin ' s rv centre narrow down the floorplans best suited to your needs . . . our new floorplan finder is a tool developed to help first - time rv buyers narrow down the hundreds of brands , types and models available in our inventory . the tool is based on a series of questions , and even if you don’t know some of the answers , the form will generate a list of inventory best suited to your requirements . after answering the questions click the orange submit button , and your personal list of models will load . first we need to determine if you are looking to travel with your trailer , towing it from site to site , or if you are planning to park it at a camp grounds and live or vacation at that same location ? tow park both do you know what body style you are interested in ? what is the maximum weight your current tow vehicle can handle , or if you plan on purchasing a new tow vehicle , what is the planned maximum weight you are looking to tow ? what is the maximum trailer length , if any , you require ? perhaps you have parking or winter storage restrictions ? are you looking for a new trailer , a used trailer , or would you consider both ? choose one that is available to you . select one or more floorplan features from the list below . select only those features that are most important to you because the more features you select , the shorter the list of matching floorplans becomes . . .\n"
     ]
    }
   ],
   "source": [
    "print(preprocess_for_fasttext(x[25]['text']))"
   ]
  },
  {
   "cell_type": "code",
   "execution_count": 128,
   "id": "e4c31130-b720-4356-b29e-daffb005f859",
   "metadata": {},
   "outputs": [
    {
     "name": "stderr",
     "output_type": "stream",
     "text": [
      "'(ReadTimeoutError(\"HTTPSConnectionPool(host='cdn-lfs.hf.co', port=443): Read timed out. (read timeout=10)\"), '(Request ID: 00b08ed2-8412-4cc0-864a-dc4b23b20f17)')' thrown while requesting GET https://huggingface.co/datasets/allenai/MADLAD-400/resolve/ecd71297d60c1eb996cd3d7c44c60ad5b55adfc6/data/en/en_noisy_0000.jsonl.gz\n",
      "Retrying in 1s [Retry 1/5].\n"
     ]
    }
   ],
   "source": [
    "x=list(itertools.islice(noisy,50))\n",
    "\n"
   ]
  },
  {
   "cell_type": "code",
   "execution_count": 137,
   "id": "77310d3f-32c5-44a5-8156-180461854a4b",
   "metadata": {},
   "outputs": [
    {
     "name": "stdout",
     "output_type": "stream",
     "text": [
      "India Malayalam Pillai Mca Grooms - Boys - India Malayalam Pillai Mca Groom Matrimony - PillaiMatrimony.com\n",
      "Pillai Matrimony > Malayalam > India > Mca Matrimony\n",
      "Pillai India MCA Grooms\n",
      "My name is Anuraj M Pillai and I am working as a Officer in the Private sector. I have completed my MCA. I grew up in a Upper Middle Class class, Nuclear family with Moderate values.\n"
     ]
    }
   ],
   "source": [
    "print(x[2]['text'].replace('\\\\n', '\\n'))"
   ]
  },
  {
   "cell_type": "code",
   "execution_count": 63,
   "id": "8ffff91e-4512-4eae-b029-db8488f62d02",
   "metadata": {},
   "outputs": [],
   "source": [
    "\n",
    "\n"
   ]
  },
  {
   "cell_type": "code",
   "execution_count": 115,
   "id": "8252b4a1-523f-4126-8588-c6bb37549ec4",
   "metadata": {},
   "outputs": [],
   "source": [
    "x = list(itertools.islice(the_pile_cleaned,50))"
   ]
  },
  {
   "cell_type": "code",
   "execution_count": null,
   "id": "a97afb20-068f-43d7-9baf-5ea5f8a8e43f",
   "metadata": {},
   "outputs": [],
   "source": [
    "def clean_wikipedia(article):"
   ]
  },
  {
   "cell_type": "code",
   "execution_count": 127,
   "id": "29a9717d-6cde-41e1-89a4-f1eb3cff3930",
   "metadata": {},
   "outputs": [
    {
     "name": "stdout",
     "output_type": "stream",
     "text": [
      "HotKnot is a near-field communication technology (which is mainly used in a capacitive touch screen) used in some smart terminal devices. This near-field communication includes two processes: proximity detection process and data transmission process. The proximity detection process of the near-field communication is: a touch screen terminal of one party sends a proximity detection sequence (for example, the proximity detection sequence includes six frequencies), and after receiving the proximity detection sequence, a touch screen terminal of the other party successively scans the multiple frequencies included in the proximity detection sequence. If signal strength at each frequency is greater than a preset signal strength threshold, it is considered that a signal source exists at the frequency. After the scan is completed, if signal sources exist at all frequencies, it is determined that the sequence is valid; otherwise, it is determined that the sequence is invalid. After it is determined that the sequence is valid, the receiving party feeds back a proximity response sequence to the sending party. After receiving the proximity response sequence, the sending party successively performs scan similarly, and determines whether the response sequence is valid. The determining manner is described above. When the two parties both consider that the sequence is valid, it is considered that sequence identification succeeds once. After the sequence identification succeeds for multiple times according to an interaction rule, it is determined that a touch screen terminal approaches. After the proximity detection succeeds, an interference source is turned off, and the data transmission process is started to send or receive data. During the proximity detection, the interference source such as an LCD is not turned off, there is a relatively big difficulty to correctly determine a frequency of the sequence, and setting of a signal strength threshold plays a particularly important role in determining of a signal. Therefore, it appears to be particularly important to be capable of setting a proper signal strength threshold according to a noise situation.\n",
      "During proximity detection of two HotKnot (which is a type of near-field communication and is mainly used in the capacitive touch screen) devices, a drive signal of LCD scan, or common-mode interference when a charger is connected interferes with signal detection of the capacitive touch screen, which may cause an error when the proximity detection is performed by using the touch screen, and a case in which the two parties cannot enter or one party enters by a mistake. Currently, to enable the capacitive touch screen to adapt to different LCD interference intensities, noise reduction processing is usually performed on detected data. After the noise reduction processing, a signal strength threshold determining policy is used. If signal strength is greater than the threshold, it is considered that a signal is valid; otherwise, it is considered that the signal is an invalid signal. In addition, for the foregoing interference cases, an interference frequency is detected by using an instrument, and then the interference frequency is not used as a determining basis, thereby avoiding an interference sources.\n",
      "However, in a current processing manner, there are at least two problems: 1) Although some problems can be solved by using a proper signal strength threshold, when interference occurs at some frequencies, signal strength of noise is sometimes greater than strength of a signal, and the frequencies are very difficult to be identified, which finally results in failure of entire sequence identification; and in addition, interference intensity often changes, detection reliability and sensitivity are difficult to be ensured if only one fixed signal strength threshold is used. 2) Interference in an actual environment often changes; if some fixed frequencies are not identified, although a situation of interference at the fixed frequencies can be improved, when the interference at the frequencies changes, the changed interference frequencies cannot be shielded, that is, a compatibility problem exists. Therefore, in the case of weak signal or strong interference, reliability and sensitivity of proximity detection are not high.\n"
     ]
    }
   ],
   "source": [
    "print(x[40]['text'][:5000])"
   ]
  },
  {
   "cell_type": "code",
   "execution_count": null,
   "id": "460dbf8b-0ebc-4dd0-8b15-78d791e933f2",
   "metadata": {},
   "outputs": [],
   "source": [
    "\n",
    "\n"
   ]
  },
  {
   "cell_type": "code",
   "execution_count": 13,
   "id": "9af24cd5-df16-47d3-8365-273bd73b4e1d",
   "metadata": {},
   "outputs": [],
   "source": [
    "N_DS=3"
   ]
  },
  {
   "cell_type": "code",
   "execution_count": 7,
   "id": "ba36fb2b-e07b-4105-83a1-d535025cd93b",
   "metadata": {},
   "outputs": [],
   "source": [
    "N_DS=30_000"
   ]
  },
  {
   "cell_type": "code",
   "execution_count": 52,
   "id": "d7e7a8cc-2643-4bc4-9817-1c340309351c",
   "metadata": {},
   "outputs": [],
   "source": [
    "N_DS=1_000_000"
   ]
  },
  {
   "cell_type": "code",
   "execution_count": 114,
   "id": "9cc87168-4882-4b05-8087-dd8fefc563ab",
   "metadata": {},
   "outputs": [
    {
     "data": {
      "application/vnd.jupyter.widget-view+json": {
       "model_id": "085a842ca08c4c8a83b93f6f7dde1393",
       "version_major": 2,
       "version_minor": 0
      },
      "text/plain": [
       "Resolving data files:   0%|          | 0/30 [00:00<?, ?it/s]"
      ]
     },
     "metadata": {},
     "output_type": "display_data"
    }
   ],
   "source": [
    "clean_text = ['USPTO Backgrounds', 'Wikipedia (en)', 'Gutenberg (PG-19)']\n",
    "clean_text = ['Gutenberg (PG-19)']\n",
    "clean_text = ['USPTO Backgrounds']\n",
    "\n",
    "def filter_clean_examples(examples):\n",
    "    return [ x['pile_set_name'] in clean_text for x in examples['meta'] ]\n",
    "\n",
    "the_pile = load_dataset(\"monology/pile-uncopyrighted\", split=\"train\", streaming=True)\n",
    "\n",
    "the_pile_cleaned = the_pile.filter(filter_clean_examples, batched=True)"
   ]
  },
  {
   "cell_type": "code",
   "execution_count": 5,
   "id": "07fb57e6-8b0b-411b-9cbf-0fa423ac5b84",
   "metadata": {},
   "outputs": [
    {
     "data": {
      "text/plain": [
       "IterableDataset({\n",
       "    features: ['text'],\n",
       "    num_shards: 1555\n",
       "})"
      ]
     },
     "execution_count": 5,
     "metadata": {},
     "output_type": "execute_result"
    }
   ],
   "source": [
    "noisy = load_dataset(\"allenai/madlad-400\", \"en\", split=\"noisy\", streaming=True)\n",
    "noisy"
   ]
  },
  {
   "cell_type": "code",
   "execution_count": null,
   "id": "81899215-6b8e-4157-afec-040cfc655a51",
   "metadata": {},
   "outputs": [],
   "source": [
    "noisy"
   ]
  },
  {
   "cell_type": "code",
   "execution_count": null,
   "id": "6100e261-1fa7-4cff-a1af-bd30755a4674",
   "metadata": {},
   "outputs": [],
   "source": []
  },
  {
   "cell_type": "code",
   "execution_count": null,
   "id": "ac45a98f-1147-489d-9de4-0fb454aa38e9",
   "metadata": {},
   "outputs": [],
   "source": []
  },
  {
   "cell_type": "code",
   "execution_count": 8,
   "id": "a7133d27-7f25-470e-850c-864bacf31dc4",
   "metadata": {},
   "outputs": [],
   "source": [
    "import itertools\n",
    "clean_pile_iterator = itertools.islice(the_pile_cleaned,N_DS)\n",
    "noisy_iterator = itertools.islice(noisy,N_DS)"
   ]
  },
  {
   "cell_type": "code",
   "execution_count": null,
   "id": "a22f552e-24e6-4c27-82e7-9a5489302b85",
   "metadata": {},
   "outputs": [],
   "source": []
  },
  {
   "cell_type": "code",
   "execution_count": 9,
   "id": "6c51d2fa-68b6-4de3-b155-02fe3c3280b0",
   "metadata": {},
   "outputs": [
    {
     "name": "stderr",
     "output_type": "stream",
     "text": [
      "100%|████████████████████████████████████████████████████████████████████████████████████████████████████████████████████████████████████████████████████████████████████████████████████████████████████| 30000/30000 [03:56<00:00, 126.74it/s]\n",
      "100%|███████████████████████████████████████████████████████████████████████████████████████████████████████████████████████████████████████████████████████████████████████████████████████████████████| 30000/30000 [00:20<00:00, 1484.85it/s]\n"
     ]
    }
   ],
   "source": [
    "labels = []\n",
    "texts = []\n",
    "\n",
    "for x in tqdm(clean_pile_iterator, total=N_DS, position=0, leave=True):\n",
    "    text = normalize_for_hashing(x['text'])\n",
    "    texts.append(text)\n",
    "    labels.append('__label__pos')\n",
    "    \n",
    "for x in tqdm(noisy_iterator, total=N_DS, position=0, leave=True):\n",
    "    text = normalize_for_hashing(x['text'])\n",
    "    texts.append(text)\n",
    "    labels.append('__label__neg')"
   ]
  },
  {
   "cell_type": "code",
   "execution_count": 10,
   "id": "abdcb9b4-2572-4181-a4d6-dca865814a90",
   "metadata": {},
   "outputs": [],
   "source": [
    "from datasets import Dataset\n",
    "ds = Dataset.from_dict({'label': labels, 'text': texts})"
   ]
  },
  {
   "cell_type": "code",
   "execution_count": 11,
   "id": "f455c710-d492-4db2-b0fe-1eed046717b2",
   "metadata": {},
   "outputs": [],
   "source": [
    "ds=ds.train_test_split(test_size=0.2)"
   ]
  },
  {
   "cell_type": "code",
   "execution_count": 12,
   "id": "0d9c1fa6-b52f-400d-8f5e-e38c3be1d3be",
   "metadata": {},
   "outputs": [
    {
     "data": {
      "text/plain": [
       "DatasetDict({\n",
       "    train: Dataset({\n",
       "        features: ['label', 'text'],\n",
       "        num_rows: 48000\n",
       "    })\n",
       "    test: Dataset({\n",
       "        features: ['label', 'text'],\n",
       "        num_rows: 12000\n",
       "    })\n",
       "})"
      ]
     },
     "execution_count": 12,
     "metadata": {},
     "output_type": "execute_result"
    }
   ],
   "source": [
    "ds"
   ]
  },
  {
   "cell_type": "code",
   "execution_count": 13,
   "id": "b3c27975-1051-46e0-b4f7-6f3903f060a9",
   "metadata": {},
   "outputs": [
    {
     "name": "stdout",
     "output_type": "stream",
     "text": [
      "test\n"
     ]
    },
    {
     "name": "stderr",
     "output_type": "stream",
     "text": [
      "100%|██████████████████████████████████████████████████████████████████████████████████████████████████████████████████████████████████████████████████████████████████████████████████████████████████| 12000/12000 [00:00<00:00, 48609.37it/s]\n"
     ]
    },
    {
     "name": "stdout",
     "output_type": "stream",
     "text": [
      "train\n"
     ]
    },
    {
     "name": "stderr",
     "output_type": "stream",
     "text": [
      "100%|██████████████████████████████████████████████████████████████████████████████████████████████████████████████████████████████████████████████████████████████████████████████████████████████████| 48000/48000 [00:01<00:00, 47838.17it/s]\n"
     ]
    }
   ],
   "source": [
    "print('test')\n",
    "with open('quality_long_test.txt', 'w') as f:\n",
    "    for x in tqdm(ds['test'], position=0, leave=True):\n",
    "        print(x['label'] + ' ' + x['text'], file=f)\n",
    "\n",
    "print('train')\n",
    "with open('quality_long_train.txt', 'w') as f:\n",
    "    for x in tqdm(ds['train'], position=0, leave=True):\n",
    "        print(x['label'] + ' ' + x['text'], file=f)"
   ]
  },
  {
   "cell_type": "code",
   "execution_count": null,
   "id": "35635ad4-baff-4965-8293-3f29b4436757",
   "metadata": {},
   "outputs": [],
   "source": []
  },
  {
   "cell_type": "code",
   "execution_count": 33,
   "id": "f17f1573-9124-4f76-8f1c-ce6124015729",
   "metadata": {},
   "outputs": [
    {
     "name": "stdout",
     "output_type": "stream",
     "text": [
      "__label__neg\n",
      "100hr mindfulness  meditation teacher program  higher potential livingnhigher potential livingn100hr mindfulness  meditation teacher training programn100hr mindfulness  meditationnmay 20th  july 22nd 2021na mindfulness  meditation teacher training is perfect for practitioners who are looking to share their knowledge and experience with others a personal practice of mindfulness and meditation is essential for moving forward with a formal training and in this course you will learn methods and techniques that suit a wide variety of learning styles and will be given the setting to dive deeper into your own exploration and developmentnthis course is intended for practitioners who already have a solid foundation in mindfulness and meditation who are looking to take the next step into teaching we are looking for students who have experienced one or more of the followingn200hr or more yoga teacher trainingnregular mindfulness  meditation practice accompanied with self studynsessions are conducted as zoom webinars at 7pm est on one weeknight each weekneach webinar is recorded and uploaded for later reference or if you are not able to be present during the sessionnthere will be a grounding at the beginning of each session led by the instructor or a volunteer and at least one meditationneach session will focus on a new topic with a question and answer section at the endnbetween sessions you will be given a suggested home practice to help integrate the conceptsnupon registration you will gain access to the resources section of this website where you will find videos and audio files to help you with your practicenyou will be teamed up with a cocoach for continued practice and reflectionnthere is assigned reading that makes up part of the 100hrsna prerecorded video is to be watched for discussion at each live sessionnhome practice will be discussednstudents will be required to submit a recorded guided meditation and a final project for review to demonstrate understanding of the conceptsnmindfulnessbased cognitive therapy the cbt distinctive features series by rebecca cranenyou will be assigned a cocoach who will be your practice studentteacher as well as your accountabilibuddy these pairings will be created at random if you have any issues with the individual you are partnered with reflect on what about yourself is being triggered by that individualnfinal project and recordingnstudents will be required to submit a 1015 minute recorded meditation style of their choosing that demonstrates the concepts of guiding a meditationnstudents will also be required to complete and submit a final project of their choosing this can be in a wide verity of formats such as instructional video powerpoint presentation with audio overdub instructional audio series podcast think of something that will relate to how you may want teach after you have completed this programnour certificate of completion is recognized by the canadian yoga alliance and will be in affiliation with the kala yoga registered yoga school you then can register to be a recognized mt meditation teacher through the canadian yoga alliance although this practice is not well represented by a piece of paper and a title we understand that in some settings in order to be given the chance to teach and help others an employer may want to see a certificatenthe program costs 850 plus tax per person this gives you continuing access to all resources on the higher potential living website the course content discounted rates on any future training and recognition as a higher potential living representative as a representative you may be hired to assist with future teacher training courses and retreatsnclick on the apply now button at the top of this page your application will be reviewed and upon acceptance a payment link will be sent to you with instructions for payment options one has the option to pay in full or to put down a deposit to hold ones spot the remaining balance is required by march 11thnphoto used under creative commons from richardjames1990\n"
     ]
    }
   ],
   "source": [
    "idx = 19\n",
    "print(ds['train'][idx]['label'])\n",
    "print(ds['train'][idx]['text'])"
   ]
  },
  {
   "cell_type": "code",
   "execution_count": null,
   "id": "fde94f91-f0c8-4c23-871b-c75021feac14",
   "metadata": {},
   "outputs": [],
   "source": []
  },
  {
   "cell_type": "code",
   "execution_count": null,
   "id": "0795fb9a-abc6-4c99-bd07-39a6187436bd",
   "metadata": {},
   "outputs": [],
   "source": []
  },
  {
   "cell_type": "code",
   "execution_count": null,
   "id": "2e6291f0-4621-44bf-a79c-510fd2821017",
   "metadata": {},
   "outputs": [],
   "source": [
    "with open('quality_train.txt', 'a') as f:\n",
    "    "
   ]
  },
  {
   "cell_type": "code",
   "execution_count": null,
   "id": "91aae5a0-0e5f-4914-ad4c-fbfc628adfb5",
   "metadata": {},
   "outputs": [],
   "source": []
  },
  {
   "cell_type": "code",
   "execution_count": null,
   "id": "b6d5e7aa-fb06-4e02-804e-b673f13c7afa",
   "metadata": {},
   "outputs": [],
   "source": []
  },
  {
   "cell_type": "code",
   "execution_count": null,
   "id": "9404425b-3fe2-4ec1-a2bc-9da62670c58b",
   "metadata": {},
   "outputs": [],
   "source": []
  },
  {
   "cell_type": "code",
   "execution_count": null,
   "id": "46d9d6f8-a2a5-484f-ae18-7c42a4a5adc5",
   "metadata": {},
   "outputs": [],
   "source": [
    "sum(1 for x in tqdm(b,total=N_DS) if x['meta']['pile_set_name'] in clean_text)"
   ]
  },
  {
   "cell_type": "code",
   "execution_count": 345,
   "id": "2950989a-44cb-4841-8b81-447dcc96077f",
   "metadata": {},
   "outputs": [],
   "source": [
    "it = iter(noisy)"
   ]
  },
  {
   "cell_type": "code",
   "execution_count": 350,
   "id": "71c26339-c105-4db8-b1b3-71760c4198f9",
   "metadata": {},
   "outputs": [],
   "source": [
    "sample = next(it)"
   ]
  },
  {
   "cell_type": "code",
   "execution_count": 349,
   "id": "d4689008-bc13-483b-96e9-55c7a318b7e9",
   "metadata": {},
   "outputs": [
    {
     "data": {
      "text/plain": [
       "['text']"
      ]
     },
     "execution_count": 349,
     "metadata": {},
     "output_type": "execute_result"
    }
   ],
   "source": [
    "list(sample.keys())"
   ]
  },
  {
   "cell_type": "code",
   "execution_count": 330,
   "id": "29f1114c-5dc3-44ca-b5e4-fc1cbfbb7353",
   "metadata": {},
   "outputs": [],
   "source": [
    "field = 'text'\n",
    "field = 'EN'"
   ]
  },
  {
   "cell_type": "code",
   "execution_count": 331,
   "id": "74133305-af1b-4508-a080-f67129d63609",
   "metadata": {},
   "outputs": [
    {
     "data": {
      "text/plain": [
       "620596"
      ]
     },
     "execution_count": 331,
     "metadata": {},
     "output_type": "execute_result"
    }
   ],
   "source": [
    "len(sample[field])"
   ]
  },
  {
   "cell_type": "code",
   "execution_count": null,
   "id": "00025ecb-c408-4a28-a146-42fb4bfc1c2b",
   "metadata": {},
   "outputs": [],
   "source": []
  },
  {
   "cell_type": "code",
   "execution_count": null,
   "id": "161a472e-970b-4769-9083-3bfe73b1c661",
   "metadata": {},
   "outputs": [],
   "source": []
  },
  {
   "cell_type": "code",
   "execution_count": 333,
   "id": "2663c71c-caf4-43f5-a8b3-1f0e09d8801a",
   "metadata": {},
   "outputs": [
    {
     "name": "stdout",
     "output_type": "stream",
     "text": [
      "CHAPTER I. START IN LIFE\n",
      "\n",
      "\n",
      "I was born in the year 1632, in the city of York, of a good family,\n",
      "though not of that country, my father being a foreigner of Bremen, who\n",
      "settled first at Hull. He got a good estate by merchandise, and leaving\n",
      "off his trade, lived afterwards at York, from whence he had married my\n",
      "mother, whose relations were named Robinson, a very good family in that\n",
      "country, and from whom I was called Robinson Kreutznaer; but, by the\n",
      "usual corruption of words in England, we are now called nay we call\n",
      "ourselves and write our name Crusoe; and so my companions always called\n",
      "me.\n",
      "\n",
      "I had two elder brothers, one of whom was lieutenant-colonel to an\n",
      "English regiment of foot in Flanders, formerly commanded by the famous\n",
      "Colonel Lockhart, and was killed at the battle near Dunkirk against the\n",
      "Spaniards. What became of my second brother I never knew, any more than\n",
      "my father or mother knew what became of me.\n",
      "\n",
      "Being the third son of the family and not bred to any trade, my head\n",
      "began to be filled very early with rambling thoughts. My father, who\n",
      "was very ancient, had given me a competent share of learning, as far as\n",
      "house-education and a country free school generally go, and designed me\n",
      "for the law; but I would be satisfied with nothing but going to sea;\n",
      "and my inclination to this led me so strongly against the will, nay,\n",
      "the commands of my father, and against all the entreaties and\n",
      "persuasions of my mother and other friends, that there seemed to be\n",
      "something fatal in that propensity of nature, tending directly to the\n",
      "life of misery which was to befall me.\n",
      "\n",
      "My father, a wise and grave man, gave me serious and excellent counsel\n",
      "against what he foresaw was my design. He called me one morning into\n",
      "his chamber, where he was confined by the gout, and expostulated very\n",
      "warmly with me upon this subject. He asked me what reasons, more than a\n",
      "mere wandering inclination, I had for leaving father s house and my\n",
      "native country, where I might be well introduced, and had a prospect of\n",
      "raising my fortune by application and industry, with a life of ease and\n",
      "pleasure. He told me it was men of desperate fortunes on one hand, or\n",
      "of aspiring, superior fortunes on the other, who went abroad upon\n",
      "adventures, to rise by enterprise, and make themselves famous in\n",
      "undertakings of a nature out of the common road; that these things were\n",
      "all either too far above me or too far below me; that mine was the\n",
      "middle state, or what might be called the upper station of low life,\n",
      "which he had found, by long experience, was the best state in the\n",
      "world, the most suited to human happiness, not exposed to the miseries\n",
      "and hardships, the labour and sufferings of the mechanic part of\n",
      "mankind, and not embarrassed with the pride, luxury, ambition, and envy\n",
      "of the upper part of mankind. He told me I might judge of the happiness\n",
      "of this state by this one thing viz. that this was the state of life\n",
      "which all other people envied; that kings have frequently lamented the\n",
      "miserable consequence of being born to great things, and wished they\n",
      "had been placed in the middle of the two extremes, between the mean and\n",
      "the great; that the wise man gave his testimony to this, as the\n",
      "standard of felicity, when he prayed to have neither poverty nor\n",
      "riches.\n",
      "\n",
      "He bade me observe it, and I should always find that the calamities of\n",
      "life were shared among the upper and lower part of mankind, but that\n",
      "the middle station had the fewest disasters, and was not exposed to so\n",
      "many vicissitudes as the higher or lower part of mankind; nay, they\n",
      "were not subjected to so many distempers and uneasinesses, either of\n",
      "body or mind, as those were who, by vicious living, luxury, and\n",
      "extravagances on the one hand, or by h\n"
     ]
    }
   ],
   "source": [
    "print(sample[field][:3700].replace('\\\\n', '\\n'))"
   ]
  },
  {
   "cell_type": "code",
   "execution_count": 192,
   "id": "7f9574d7-325e-451c-9867-10ced7cec18c",
   "metadata": {},
   "outputs": [
    {
     "name": "stdout",
     "output_type": "stream",
     "text": [
      "CHAPTER I.\n",
      "\n",
      "THE IMPOSSIBLE--INEVITABLE.\n",
      "\n",
      "\n",
      "In the garden the question was settled without serious difference of\n",
      "opinion. If Sir Robert Perry really could not go on--and Lady Eynesford\n",
      "was by no means prepared to concede even that--then Mr. Puttock,\n",
      "_bourgeois_ as he was, or Mr. Coxon, conceited and priggish though he\n",
      "might be, must come in. At any rate, the one indisputable fact was the\n",
      "impossibility of Mr. Medland: this was, to Lady Eynesford's mind,\n",
      "axiomatic, and, in the safe privacy of her family circle (for Miss\n",
      "Scaife counted as one of the family, and Captain Heseltine and Mr.\n",
      "Flemyng did not count at all), she went so far as to declare that, let\n",
      "the Governor do as he would (in the inconceivable case of his being so\n",
      "foolish as to do anything of the kind), she at least would not receive\n",
      "Mr. Medland. Having launched this hypothetical thunderbolt, she asked\n",
      "Alicia Derosne to give her another cup of tea. Alicia poured out the\n",
      "tea, handed it to her sister-in-law, and asked,\n",
      "\n",
      "\"But, Mary\n"
     ]
    }
   ],
   "source": [
    "print(sample['EN'][:1000])"
   ]
  },
  {
   "cell_type": "code",
   "execution_count": null,
   "id": "3ecb5c16-668e-402b-9290-a281e307be21",
   "metadata": {},
   "outputs": [],
   "source": []
  },
  {
   "cell_type": "code",
   "execution_count": 47,
   "id": "e1fa18bd-c4d7-45ca-977e-8d02ac07cd39",
   "metadata": {},
   "outputs": [],
   "source": [
    "unique_pile_set_names = set()"
   ]
  },
  {
   "cell_type": "code",
   "execution_count": 275,
   "id": "1a0add90-98da-40ec-a61d-85bb9cbb0944",
   "metadata": {},
   "outputs": [
    {
     "name": "stderr",
     "output_type": "stream",
     "text": [
      "10001it [00:05, 1816.47it/s]                                                                                                                                                                                                                    \n"
     ]
    }
   ],
   "source": [
    "LIMIT = 10_000\n",
    "sns = defaultdict(list)\n",
    "for i,sample in tqdm(enumerate(the_pile), total=LIMIT):\n",
    "    if len(sns[sample['meta']['pile_set_name']])<10:\n",
    "        sns[sample['meta']['pile_set_name']].append(sample['text'])\n",
    "    if i>LIMIT:\n",
    "        break\n",
    "    "
   ]
  },
  {
   "cell_type": "code",
   "execution_count": 276,
   "id": "f7e59efc-9d7a-4a0f-8347-ab2d46216316",
   "metadata": {},
   "outputs": [
    {
     "data": {
      "text/plain": [
       "[(0, 'Pile-CC'),\n",
       " (1, 'Github'),\n",
       " (2, 'StackExchange'),\n",
       " (3, 'Wikipedia (en)'),\n",
       " (4, 'PubMed Abstracts'),\n",
       " (5, 'USPTO Backgrounds'),\n",
       " (6, 'FreeLaw'),\n",
       " (7, 'PubMed Central'),\n",
       " (8, 'Enron Emails'),\n",
       " (9, 'HackerNews'),\n",
       " (10, 'NIH ExPorter'),\n",
       " (11, 'ArXiv'),\n",
       " (12, 'DM Mathematics'),\n",
       " (13, 'Ubuntu IRC'),\n",
       " (14, 'EuroParl'),\n",
       " (15, 'PhilPapers'),\n",
       " (16, 'Gutenberg (PG-19)')]"
      ]
     },
     "execution_count": 276,
     "metadata": {},
     "output_type": "execute_result"
    }
   ],
   "source": [
    "k=list(sns.keys())\n",
    "list(enumerate(k))"
   ]
  },
  {
   "cell_type": "code",
   "execution_count": 283,
   "id": "8ec3e7c3-bb38-48a7-b738-a5e6db1edef7",
   "metadata": {},
   "outputs": [
    {
     "name": "stdout",
     "output_type": "stream",
     "text": [
      "jOOQ on The ORM Foundation?\n",
      "\n",
      "I am the developer of jOOQ, a Java database abstraction framework. I was wondering whether jOOQ might be an interesting tool for discussion on your website, even if it is not exactly an ORM in the classic meaning (as in mapping objects to the relational world > ORM). Instead, jOOQ uses a reverse engineering paradigm (as in mapping relational entities to objects > \"ROM\").\n",
      "\n",
      "Re: jOOQ on The ORM Foundation?\n",
      "\n",
      "Object Role Modeling (the original ORM) is not the same thing as Object/Relational Mapping.\n",
      "\n",
      "Object/Relational Mapping is still kind-of relevant and interesting to us, since Object Role Modeling is used to design databases (which then will require programmatic access). But there are probably better places to discuss it :]\n",
      "\n",
      "Your query DSL looks rather like some of the DSLs available for Ruby, such as through the Sequel gem, or Arel. Interesting to see how well that can work with a statically-types language like Java. Maybe you or I should make a generator fo\n"
     ]
    }
   ],
   "source": [
    "print(sns['Pile-CC'][6][:1000])"
   ]
  },
  {
   "cell_type": "code",
   "execution_count": null,
   "id": "34b7516d-3cb8-412c-9aaf-d4148e864925",
   "metadata": {},
   "outputs": [],
   "source": [
    "print(noisy)\n"
   ]
  },
  {
   "cell_type": "code",
   "execution_count": null,
   "id": "970ea224-187c-4967-99bf-2eae380da95b",
   "metadata": {},
   "outputs": [],
   "source": []
  },
  {
   "cell_type": "code",
   "execution_count": null,
   "id": "269d5718-5b4e-4ac4-9d30-07e220d82800",
   "metadata": {},
   "outputs": [],
   "source": []
  },
  {
   "cell_type": "code",
   "execution_count": null,
   "id": "7f5a0ea9-4a8c-49dd-8a67-4e517a1b895f",
   "metadata": {},
   "outputs": [],
   "source": [
    "for k,v in .items():\n",
    "    print(k)\n",
    "    print(v[:1000])\n",
    "    print('====================')"
   ]
  },
  {
   "cell_type": "code",
   "execution_count": null,
   "id": "d8731b5e-7509-4613-b33b-94de03d4c4fa",
   "metadata": {},
   "outputs": [],
   "source": []
  },
  {
   "cell_type": "code",
   "execution_count": null,
   "id": "8c4ecf71-2d0f-4439-a22c-1b91e073093c",
   "metadata": {},
   "outputs": [],
   "source": []
  },
  {
   "cell_type": "code",
   "execution_count": 33,
   "id": "8b666ec6-44ae-4dbf-bee7-e88a797158b4",
   "metadata": {},
   "outputs": [
    {
     "data": {
      "text/plain": [
       "{'ArXiv',\n",
       " 'DM Mathematics',\n",
       " 'Enron Emails',\n",
       " 'EuroParl',\n",
       " 'FreeLaw',\n",
       " 'Github',\n",
       " 'Gutenberg (PG-19)',\n",
       " 'HackerNews',\n",
       " 'NIH ExPorter',\n",
       " 'PhilPapers',\n",
       " 'Pile-CC',\n",
       " 'PubMed Abstracts',\n",
       " 'PubMed Central',\n",
       " 'StackExchange',\n",
       " 'USPTO Backgrounds',\n",
       " 'Ubuntu IRC',\n",
       " 'Wikipedia (en)'}"
      ]
     },
     "execution_count": 33,
     "metadata": {},
     "output_type": "execute_result"
    }
   ],
   "source": [
    "unique_pile_set_names"
   ]
  },
  {
   "cell_type": "code",
   "execution_count": 15,
   "id": "edf1e664-8353-40e3-9dd7-8909a84a5ab1",
   "metadata": {},
   "outputs": [
    {
     "data": {
      "text/plain": [
       "False"
      ]
     },
     "execution_count": 15,
     "metadata": {},
     "output_type": "execute_result"
    }
   ],
   "source": [
    "'pile_set_name' in sample"
   ]
  },
  {
   "cell_type": "code",
   "execution_count": 60,
   "id": "b514250d-9114-4455-898c-67edffbec19c",
   "metadata": {},
   "outputs": [
    {
     "data": {
      "application/vnd.jupyter.widget-view+json": {
       "model_id": "76d4013deebb40a1b0945a86a0447833",
       "version_major": 2,
       "version_minor": 0
      },
      "text/plain": [
       "Resolving data files:   0%|          | 0/1024 [00:00<?, ?it/s]"
      ]
     },
     "metadata": {},
     "output_type": "display_data"
    },
    {
     "data": {
      "application/vnd.jupyter.widget-view+json": {
       "model_id": "c96895cee9a04d38aa8beefa46f1b944",
       "version_major": 2,
       "version_minor": 0
      },
      "text/plain": [
       "Resolving data files:   0%|          | 0/7168 [00:00<?, ?it/s]"
      ]
     },
     "metadata": {},
     "output_type": "display_data"
    },
    {
     "data": {
      "application/vnd.jupyter.widget-view+json": {
       "model_id": "c5423e4670074b269e20af9b4e4c4c19",
       "version_major": 2,
       "version_minor": 0
      },
      "text/plain": [
       "Resolving data files:   0%|          | 0/64 [00:00<?, ?it/s]"
      ]
     },
     "metadata": {},
     "output_type": "display_data"
    }
   ],
   "source": [
    "en = load_dataset(\"allenai/c4\", \"en.noclean\", streaming=True)\n"
   ]
  },
  {
   "cell_type": "code",
   "execution_count": null,
   "id": "b514614d-e9d8-473a-b843-359d883eabea",
   "metadata": {},
   "outputs": [],
   "source": [
    "import random\n",
    "count = 0\n",
    "for x in en['train']:\n",
    "    if random.uniform(0,1) < 0.01:\n",
    "        print(x['text'])\n",
    "        print('=========================')\n",
    "        count+=1\n",
    "    if count>30:\n",
    "        break\n"
   ]
  },
  {
   "cell_type": "code",
   "execution_count": null,
   "id": "d81ded09-928f-4903-b295-83b557645cb1",
   "metadata": {},
   "outputs": [],
   "source": [
    "print(sample['text'])"
   ]
  },
  {
   "cell_type": "code",
   "execution_count": null,
   "id": "ee3d83b7-dede-4acc-a90e-acc22a3e750b",
   "metadata": {},
   "outputs": [],
   "source": []
  }
 ],
 "metadata": {
  "kernelspec": {
   "display_name": "Python (trans)",
   "language": "python",
   "name": "trans"
  },
  "language_info": {
   "codemirror_mode": {
    "name": "ipython",
    "version": 3
   },
   "file_extension": ".py",
   "mimetype": "text/x-python",
   "name": "python",
   "nbconvert_exporter": "python",
   "pygments_lexer": "ipython3",
   "version": "3.9.21"
  }
 },
 "nbformat": 4,
 "nbformat_minor": 5
}
